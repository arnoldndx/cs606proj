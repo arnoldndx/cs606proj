{
 "cells": [
  {
   "cell_type": "code",
   "execution_count": 1,
   "id": "2ae066b7",
   "metadata": {},
   "outputs": [],
   "source": [
    "#Standard Imports\n",
    "import os\n",
    "import sys\n",
    "import pandas as pd\n",
    "# from collections import defaultdict\n",
    "#import timeit\n",
    "from docplex.cp.model import CpoModel"
   ]
  },
  {
   "cell_type": "code",
   "execution_count": 2,
   "id": "0ab2c864",
   "metadata": {},
   "outputs": [],
   "source": [
    "#Custom Imports\n",
    "sys.path.append('../')\n",
    "from src.chord import Chord\n",
    "from src.musical_work_input import MusicalWorkInput\n",
    "from src.cp_model import CPModel\n",
    "from src.music_functions import *"
   ]
  },
  {
   "cell_type": "code",
   "execution_count": 3,
   "id": "0b509c4a",
   "metadata": {},
   "outputs": [],
   "source": [
    "# Importing Musical Corpus\n",
    "musical_work_df = pd.read_csv(\"../data/sample_input.csv\")\n",
    "musical_corpus = []\n",
    "for i, title, meter, key, tonality, first_on_beat, melody in musical_work_df.itertuples():\n",
    "    musical_corpus.append(MusicalWorkInput(title, meter, key, tonality, first_on_beat, [int(x) for x in melody.split(',')]))"
   ]
  },
  {
   "cell_type": "code",
   "execution_count": 4,
   "id": "55e8142d",
   "metadata": {},
   "outputs": [],
   "source": [
    "# Importing Chord Vocabulary\n",
    "chord_df_major = pd.read_csv(\"../data/chord_vocabulary_major.csv\", index_col = 0)\n",
    "chord_df_minor = pd.read_csv(\"../data/chord_vocabulary_minor.csv\", index_col = 0)\n",
    "chord_vocab_major, chord_vocab_minor = [], []\n",
    "for index, name, note_intervals in chord_df_major.itertuples():\n",
    "    chord_vocab_major.append(Chord(index, name, [int(x) for x in note_intervals.split(',')]))\n",
    "for index, name, note_intervals in chord_df_minor.itertuples():\n",
    "    chord_vocab_minor.append(Chord(index, name, [int(x) for x in note_intervals.split(',')]))"
   ]
  },
  {
   "cell_type": "code",
   "execution_count": 5,
   "id": "0d45f788",
   "metadata": {},
   "outputs": [],
   "source": [
    "# Defining penalties for chord progression\n",
    "penalties_chord_progression_major = pd.read_csv(\"../data/chord_progression_major.csv\", header = 1, index_col = 0)\n",
    "penalties_chord_progression_minor = pd.read_csv(\"../data/chord_progression_minor.csv\", header = 1, index_col = 0)\n",
    "penalties_chord_progression_major = dict(penalties_chord_progression_major.stack())\n",
    "penalties_chord_progression_minor = dict(penalties_chord_progression_minor.stack())"
   ]
  },
  {
   "cell_type": "code",
   "execution_count": 6,
   "id": "4cb529d7",
   "metadata": {},
   "outputs": [],
   "source": [
    "# Importing Weights\n",
    "weight_df = pd.read_csv(\"../data/soft_constraint_weights_temp.csv\")\n",
    "\n",
    "# Defining dictionary of weights for each soft constraint option:\n",
    "soft_constraint_w_weights = {}\n",
    "for _, name, w in weight_df.itertuples(): #name population is same as soft_constraint_options\n",
    "    soft_constraint_w_weights[name] = float(w)\n",
    "assert sum(v for v in soft_constraint_w_weights.values() if v > 0) == 100"
   ]
  },
  {
   "cell_type": "code",
   "execution_count": 7,
   "id": "943e29c5",
   "metadata": {},
   "outputs": [],
   "source": [
    "# Defining dictionary of hard and soft constraint options:\n",
    "hard_constraint_options = ['musical input', 'voice range', 'chord membership', 'first last chords',\n",
    "                           'chord repetition', 'chord bass repetition', 'adjacent bar chords', 'voice crossing', 'parallel movement',\n",
    "                          'chord spacing', 'incomplete chord', 'chord distribution']\n",
    "soft_constraint_options = ['chord progression', 'chord repetition', 'chord bass repetition', 'leap resolution',\n",
    "                           'melodic movement', 'note repetition', 'parallel movement', 'voice overlap', 'adjacent bar chords',\n",
    "                           'chord spacing', 'distinct notes', 'incomplete chord', 'voice crossing', 'voice range',\n",
    "                           'second inversion', 'first inversion', 'chord distribution']"
   ]
  },
  {
   "cell_type": "code",
   "execution_count": 8,
   "id": "b4b6894f",
   "metadata": {},
   "outputs": [],
   "source": [
    "# Defining which hard constraints to use\n",
    "hard_constraints = {x: True if x in ['musical input', 'voice range', 'chord membership', 'first last chords',\n",
    "                                     'voice crossing', 'parallel movement',\n",
    "                                     'chord spacing', 'incomplete chord'] else False for x in hard_constraint_options}"
   ]
  },
  {
   "cell_type": "code",
   "execution_count": null,
   "id": "ff3f61aa",
   "metadata": {},
   "outputs": [
    {
     "name": "stdout",
     "output_type": "stream",
     "text": [
      "********************\n",
      "Work: Ode to Joy(part)\n",
      "********************\n"
     ]
    }
   ],
   "source": [
    "# Model\n",
    "for musical_work in [musical_corpus[-1]]:\n",
    "\n",
    "    print('*'*20)\n",
    "    print('Work: {}'.format(musical_work.title))\n",
    "    print('*'*20)\n",
    "    \n",
    "    if musical_work.tonality == 'major':\n",
    "        penalties_chord_progression = penalties_chord_progression_major\n",
    "        chord_vocab = chord_vocab_major\n",
    "    else:\n",
    "        penalties_chord_progression = penalties_chord_progression_minor\n",
    "        chord_vocab = chord_vocab_minor        \n",
    "    \n",
    "    #Defining Model\n",
    "    cp_model = CPModel('Completed', musical_work, chord_vocab, penalties_chord_progression,\n",
    "                       hard_constraints,\n",
    "                       soft_constraint_w_weights)\n",
    "    \n",
    "    #Solving Model\n",
    "    solution = cp_model.solve(log_output = True, TimeLimit = None, LogVerbosity = 'Verbose')\n",
    "    result = cp_model.get_solution()\n",
    "    cp_model.export_midi()"
   ]
  }
 ],
 "metadata": {
  "kernelspec": {
   "display_name": "Python 3",
   "language": "python",
   "name": "python3"
  },
  "language_info": {
   "codemirror_mode": {
    "name": "ipython",
    "version": 3
   },
   "file_extension": ".py",
   "mimetype": "text/x-python",
   "name": "python",
   "nbconvert_exporter": "python",
   "pygments_lexer": "ipython3",
   "version": "3.8.8"
  }
 },
 "nbformat": 4,
 "nbformat_minor": 5
}
