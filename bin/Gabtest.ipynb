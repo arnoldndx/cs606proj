{
 "cells": [
  {
   "cell_type": "code",
   "execution_count": 1,
   "id": "2ae066b7",
   "metadata": {},
   "outputs": [],
   "source": [
    "#Standard Imports\n",
    "import os\n",
    "import sys\n",
    "import pandas as pd\n",
    "# from collections import defaultdict\n",
    "import timeit\n",
    "from docplex.cp.model import CpoModel"
   ]
  },
  {
   "cell_type": "code",
   "execution_count": 2,
   "id": "0ab2c864",
   "metadata": {},
   "outputs": [],
   "source": [
    "#Custom Imports\n",
    "sys.path.append('../')\n",
    "from src.chord import Chord\n",
    "from src.musical_work_input import MusicalWorkInput\n",
    "from src.cp_model import CPModel\n",
    "from src.music_functions import *"
   ]
  },
  {
   "cell_type": "code",
   "execution_count": 3,
   "id": "0b509c4a",
   "metadata": {},
   "outputs": [],
   "source": [
    "# Importing Musical Corpus\n",
    "musical_work_df = pd.read_csv(\"../data/sample_input.csv\")\n",
    "musical_corpus = []\n",
    "for i, title, meter, key, tonality, first_on_beat, melody in musical_work_df.itertuples():\n",
    "    musical_corpus.append(MusicalWorkInput(title, meter, key, tonality, first_on_beat, [int(x) for x in melody.split(',')]))"
   ]
  },
  {
   "cell_type": "code",
   "execution_count": 4,
   "id": "022c5e6e",
   "metadata": {},
   "outputs": [],
   "source": [
    "# Importing Weights\n",
    "weight_df = pd.read_csv(\"../data/soft_constraint_weights_temp.csv\")"
   ]
  },
  {
   "cell_type": "code",
   "execution_count": 5,
   "id": "45bbf24c",
   "metadata": {},
   "outputs": [
    {
     "name": "stdout",
     "output_type": "stream",
     "text": [
      "Ach bleib' bei unsm Herr Jesu Christ 9 major 2 [37, 37, 40, 37, 33, 35, 37, 38, 37, 35, 33, 33, 35, 37, 37, 35, 35, 33, 33, 33, 37, 35, 37, 33, 30, 32, 33, 35, 37, 33, 33, 33, 35, 37, 37, 35, 35, 33, 33, 33] 24\n"
     ]
    }
   ],
   "source": [
    "# Choosing Musical Input\n",
    "music = musical_corpus[0]\n",
    "print(music.title, music.key, music.tonality, \n",
    "      music.first_on_beat,music.melody, music.reference_note)"
   ]
  },
  {
   "cell_type": "code",
   "execution_count": 6,
   "id": "55e8142d",
   "metadata": {},
   "outputs": [],
   "source": [
    "# Importing Chord Vocabulary\n",
    "if music.tonality == \"major\":\n",
    "    chord_df = pd.read_csv(\"../data/chord_vocabulary_major.csv\", index_col = 0)\n",
    "else:\n",
    "    chord_df = pd.read_csv(\"../data/chord_vocabulary_minor.csv\", index_col = 0)\n",
    "chord_vocab = []\n",
    "for name, note_intervals in chord_df.itertuples():\n",
    "    chord_vocab.append(Chord(name, set(int(x) for x in note_intervals.split(','))))"
   ]
  },
  {
   "cell_type": "code",
   "execution_count": 7,
   "id": "4cb529d7",
   "metadata": {},
   "outputs": [
    {
     "name": "stdout",
     "output_type": "stream",
     "text": [
      "{'chord progression': 0.1, 'chord repetition': 0.1, 'chord bass repetition': 0.1, 'leap resolution': -1.0, 'melodic movement': 0.1, 'note repetition': 0.1, 'parallel movement': -1.0, 'voice overlap': -1.0, 'adjacent bar chords': 0.1, 'chord spacing': -1.0, 'distinct notes': 0.1, 'incomplete chord': -1.0, 'voice crossing': -1.0, 'voice range': 0.1, 'second inversion': 0.1, 'chord distribution': 0.1}\n"
     ]
    }
   ],
   "source": [
    "# Defining dictionary of weights for each soft constraint options:\n",
    "soft_constraint_w_weights = {}\n",
    "for _, name, w in weight_df.itertuples(): #name population is same as soft_constraint_options\n",
    "    soft_constraint_w_weights[name] = float(w)\n",
    "print(soft_constraint_w_weights)"
   ]
  },
  {
   "cell_type": "code",
   "execution_count": 8,
   "id": "943e29c5",
   "metadata": {},
   "outputs": [],
   "source": [
    "# Defining dictionary of hard and soft constraint options:\n",
    "hard_constraint_options = ['musical input', 'voice range', 'chord membership', 'first last chords',\n",
    "                           'chord repetition', 'chord bass repetition', 'adjacent bar chords', 'voice crossing', 'parallel movement',\n",
    "                          'chord spacing', 'incomplete chord', 'chord distribution']\n",
    "hard_constraints = {x: True if x in ['musical input', 'voice range', 'chord membership', 'first last chords', 'voice crossing', 'parallel movement', 'chord spacing', 'incomplete chord']\n",
    "                    else False for x in hard_constraint_options}\n",
    "soft_constraint_options = ['chord progression', 'chord repetition', 'chord bass repetition', 'leap resolution',\n",
    "                           'melodic movement', 'note repetition', 'parallel movement', 'voice overlap', 'adjacent bar chords',\n",
    "                           'chord spacing', 'distinct notes', 'incomplete chord', 'voice crossing', 'voice range',\n",
    "                           'second inversion', 'chord distribution']"
   ]
  },
  {
   "cell_type": "code",
   "execution_count": 9,
   "id": "27ece9ac",
   "metadata": {},
   "outputs": [],
   "source": [
    "# Defining penalties for chord progression\n",
    "if music.tonality == \"major\":\n",
    "    penalties_chord_progression = pd.read_csv(\"../data/chord_progression_major.csv\", header = 1, index_col = 0)\n",
    "else:\n",
    "    penalties_chord_progression = pd.read_csv(\"../data/chord_progression_minor.csv\", header = 1, index_col = 0)\n",
    "\n",
    "penalties_chord_progression = dict(penalties_chord_progression.stack())"
   ]
  },
  {
   "cell_type": "code",
   "execution_count": 10,
   "id": "ff3f61aa",
   "metadata": {},
   "outputs": [],
   "source": [
    "# Model\n",
    "cp_model = CPModel(\"test\", musical_corpus[0], chord_vocab, penalties_chord_progression,\n",
    "                   hard_constraints,\n",
    "                   soft_constraint_w_weights)"
   ]
  },
  {
   "cell_type": "code",
   "execution_count": null,
   "id": "b739faa6",
   "metadata": {},
   "outputs": [],
   "source": [
    "solution = cp_model.solve()"
   ]
  },
  {
   "cell_type": "code",
   "execution_count": null,
   "id": "0e0b9ec8",
   "metadata": {},
   "outputs": [],
   "source": [
    "cp_model.export_midi()"
   ]
  },
  {
   "cell_type": "code",
   "execution_count": null,
   "id": "d4353728",
   "metadata": {},
   "outputs": [],
   "source": [
    "actual_solution = ['I', 'I', 'V', 'I', 'IV', 'bVII', 'I', 'IV',\n",
    "                   'I', 'V', 'vi', 'IV', 'IV', 'I', 'I', 'V',\n",
    "                   'V', 'I', 'I', 'I', 'I', 'V', 'III', 'vi',\n",
    "                   'II', 'V', '#iv_dim', 'V', 'III', 'vi', 'IV', 'I',\n",
    "                   'I', 'vi', 'I', 'V', 'V', 'I', 'I', 'I']\n",
    "count = 0\n",
    "for i, predicted, actual in zip(range(40), cp_model.get_solution()['Chords'], actual_solution):\n",
    "    if predicted != actual:\n",
    "        print(i, predicted, actual)\n",
    "    else:\n",
    "        count += 1\n",
    "similarity_score = count/40\n",
    "print(similarity_score)"
   ]
  }
 ],
 "metadata": {
  "kernelspec": {
   "display_name": "Python 3",
   "language": "python",
   "name": "python3"
  },
  "language_info": {
   "codemirror_mode": {
    "name": "ipython",
    "version": 3
   },
   "file_extension": ".py",
   "mimetype": "text/x-python",
   "name": "python",
   "nbconvert_exporter": "python",
   "pygments_lexer": "ipython3",
   "version": "3.8.8"
  }
 },
 "nbformat": 4,
 "nbformat_minor": 5
}
