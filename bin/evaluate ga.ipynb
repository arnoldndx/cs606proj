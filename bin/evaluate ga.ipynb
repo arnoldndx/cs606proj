{
 "cells": [
  {
   "cell_type": "code",
   "execution_count": 1,
   "id": "db8cc9ba-35db-4deb-9e79-4c6ad5eafae5",
   "metadata": {},
   "outputs": [],
   "source": [
    "#Standard Imports\n",
    "import os\n",
    "import sys\n",
    "import pandas as pd\n",
    "import numpy as np\n",
    "# from collections import defaultdict\n",
    "import timeit\n",
    "import argparse\n",
    "import logging\n",
    "import copy\n",
    "import numpy.random as rnd\n",
    "\n",
    "sys.path.append('../')\n",
    "\n",
    "# Custom Imports\n",
    "from src.chord import Chord\n",
    "from src.musical_work_input import MusicalWorkInput, Harmony\n",
    "from src.midi_processing import *\n",
    "# from src.learning_weights import *\n",
    "\n",
    "import src.evaluate\n",
    "import src.music_functions\n",
    "import src.ga_model"
   ]
  },
  {
   "cell_type": "code",
   "execution_count": 2,
   "id": "9c4c8b1b-acf8-4ff5-b52c-2e5ee0858615",
   "metadata": {},
   "outputs": [],
   "source": [
    "# Importing Musical Corpus\n",
    "#musical_work_df = pd.read_csv(\"../data/test_melody_hatikvah(israel)_4_1_minor_1.mid\")\n",
    "#musical_corpus = []\n",
    "#for i, title, meter, key, tonality, first_on_beat, melody in musical_work_df.itertuples():\n",
    "#    musical_corpus.append(MusicalWorkInput(title, meter, key, tonality, first_on_beat, [int(x) for x in melody.split(',')]))"
   ]
  },
  {
   "cell_type": "code",
   "execution_count": 3,
   "id": "614b607a-9a08-4b08-be37-5ef7c7345601",
   "metadata": {},
   "outputs": [],
   "source": [
    "input_midi = \"../data/test_melody_hatikvah(israel)_4_1_minor_1.mid\"\n",
    "#melody, tempo_interval, meter, key, tonality, first_on_beat = midi_to_array(input_midi)\n",
    "melody, tempo_interval = midi_to_array_quick(input_midi)\n",
    "filename = str.split(str.split(input_midi,'/')[-1],'_')\n",
    "first_on_beat = int(str.split(filename[-1],'.')[0])\n",
    "tonality = filename[-2]\n",
    "key = int(filename[-3])\n",
    "meter = int(filename[-4])\n",
    "song_title = '_'.join(filename[2:-4])\n",
    "musical_corpus = []\n",
    "musical_corpus.append(MusicalWorkInput(song_title, meter, key, tonality, first_on_beat, list(filter(None,melody[0]))))"
   ]
  },
  {
   "cell_type": "code",
   "execution_count": 4,
   "id": "4c7ea795-6513-4c72-ab1c-20d9de1b9feb",
   "metadata": {},
   "outputs": [],
   "source": [
    "# Importing Chord Vocabulary\n",
    "chord_df_major = pd.read_csv(\"../data/chord_vocabulary_major.csv\", index_col = 0)\n",
    "chord_df_minor = pd.read_csv(\"../data/chord_vocabulary_minor.csv\", index_col = 0)\n",
    "chord_vocab_major, chord_vocab_minor = [], []\n",
    "for index, name, note_intervals in chord_df_major.itertuples():\n",
    "    chord_vocab_major.append(Chord(index, name, [int(x) for x in note_intervals.split(',')]))\n",
    "for index, name, note_intervals in chord_df_minor.itertuples():\n",
    "    chord_vocab_minor.append(Chord(index, name, [int(x) for x in note_intervals.split(',')]))"
   ]
  },
  {
   "cell_type": "code",
   "execution_count": 5,
   "id": "b994785b-803b-4cab-a7d4-d80795cf1e16",
   "metadata": {},
   "outputs": [],
   "source": [
    "# Defining penalties for chord progression\n",
    "penalties_chord_progression_major = pd.read_csv(\"../data/chord_progression_major.csv\", header = 1, index_col = 0)\n",
    "penalties_chord_progression_minor = pd.read_csv(\"../data/chord_progression_minor.csv\", header = 1, index_col = 0)\n",
    "penalties_chord_progression_major = dict(penalties_chord_progression_major.stack())\n",
    "penalties_chord_progression_minor = dict(penalties_chord_progression_minor.stack())"
   ]
  },
  {
   "cell_type": "code",
   "execution_count": 6,
   "id": "4551eafa-63de-4339-a6f4-cc7de0302e92",
   "metadata": {},
   "outputs": [],
   "source": [
    "# Importing Weights\n",
    "weight_df = pd.read_csv(\"../data/soft_constraint_weights.csv\")\n",
    "\n",
    "# Defining dictionary of weights for each soft constraint option:\n",
    "soft_constraint_w_weights = {}\n",
    "for _, name, w in weight_df.itertuples(): #name population is same as soft_constraint_options\n",
    "    soft_constraint_w_weights[name] = float(w)\n",
    "assert sum(v for v in soft_constraint_w_weights.values() if v > 0) == 100"
   ]
  },
  {
   "cell_type": "code",
   "execution_count": 7,
   "id": "3a763f53-2aee-46e9-a1cd-bd39b3b1055d",
   "metadata": {},
   "outputs": [],
   "source": [
    "# Defining dictionary of hard and soft constraint options:\n",
    "hard_constraint_options = ['musical input', 'voice range', 'chord membership', 'first last chords',\n",
    "                           'chord repetition', 'chord bass repetition', 'adjacent bar chords', 'voice crossing', 'parallel movement',\n",
    "                          'chord spacing', 'incomplete chord', 'chord distribution']\n",
    "soft_constraint_options = ['chord progression', 'chord repetition', 'chord bass repetition', 'leap resolution',\n",
    "                           'melodic movement', 'note repetition', 'parallel movement', 'voice overlap', 'adjacent bar chords',\n",
    "                           'chord spacing', 'distinct notes', 'incomplete chord', 'voice crossing', 'voice range',\n",
    "                           'second inversion', 'first inversion', 'chord distribution']"
   ]
  },
  {
   "cell_type": "code",
   "execution_count": 8,
   "id": "a94d6d07-b28d-4f14-b107-85c75287347f",
   "metadata": {},
   "outputs": [],
   "source": [
    "# Defining which hard constraints to use\n",
    "hard_constraints = {x: True if x in ['musical input', 'voice range', 'chord membership', 'first last chords',\n",
    "                                     'voice crossing', 'parallel movement',\n",
    "                                     'chord spacing', 'incomplete chord'] else False for x in hard_constraint_options}"
   ]
  },
  {
   "cell_type": "code",
   "execution_count": 9,
   "id": "8e14f000-91bf-4767-9386-a595e42cc85f",
   "metadata": {},
   "outputs": [
    {
     "name": "stdout",
     "output_type": "stream",
     "text": [
      "********************\n",
      "Work: hatikvah(israel)\n",
      "********************\n",
      "0 (1.4, 28468.5)\n",
      "1 (2.78, 28468.5)\n",
      "2 (4.17, 28468.5)\n",
      "3 (5.57, 28468.5)\n",
      "4 (6.96, 28468.5)\n",
      "5 (8.37, 28468.5)\n",
      "6 (9.82, 28468.5)\n",
      "7 (11.27, 28468.5)\n",
      "8 (12.7, 28468.5)\n",
      "9 (14.21, 28468.5)\n"
     ]
    }
   ],
   "source": [
    "# Model\n",
    "for musical_work in [musical_corpus[-1]]:\n",
    "\n",
    "    print('*'*20)\n",
    "    print('Work: {}'.format(musical_work.title))\n",
    "    print('*'*20)\n",
    "    \n",
    "    if musical_work.tonality == 'major':\n",
    "        penalties_chord_progression = penalties_chord_progression_major\n",
    "        chord_vocab = chord_vocab_major\n",
    "    else:\n",
    "        penalties_chord_progression = penalties_chord_progression_minor\n",
    "        chord_vocab = chord_vocab_minor        \n",
    "    \n",
    "    #Solving Model\n",
    "    ga_model = src.ga_model.GAmodel(musical_work, chord_vocab, max_generation=10, population_size=200,\n",
    "                                    hard_constraints=hard_constraints,\n",
    "                                    soft_constraint_w_weights=soft_constraint_w_weights,\n",
    "                                    chord_progression_penalties=penalties_chord_progression,\n",
    "                                    mutation_probability=[0.5, 0.9])\n",
    "    solution, midi_array, progress_array = ga_model.solve()"
   ]
  },
  {
   "cell_type": "code",
   "execution_count": 10,
   "id": "830220ec-7267-4ca0-a28a-34343ff35b88",
   "metadata": {},
   "outputs": [
    {
     "name": "stdout",
     "output_type": "stream",
     "text": [
      "<class 'numpy.int32'>\n",
      "<class 'numpy.int32'>\n",
      "<class 'numpy.int32'>\n",
      "<class 'numpy.int32'>\n"
     ]
    }
   ],
   "source": [
    "for x in midi_array:\n",
    "    print(type(x[0]))"
   ]
  },
  {
   "cell_type": "code",
   "execution_count": 11,
   "id": "47d2a130-1daa-4a40-b208-c6648b4a3c91",
   "metadata": {},
   "outputs": [
    {
     "name": "stdout",
     "output_type": "stream",
     "text": [
      "   0   1   2   3   4   5   6   7   8   9   10  11  12  13  14  15\n",
      "0  25  28  32  32  33  37  32  32  30  30  28  28  26  26  25  25\n",
      "1  20  23  23  32  25  38  28  25  22  27  27  27  27  23  30  20\n",
      "2  17  23  23  20  25  18  13  13  15  23  24  19  24  20  23  20\n",
      "3  13  20  15  11   9  14   9  20  19   8   8  19  18  20  23  25\n",
      "4   1   5   7   5   6   2   9   0   4   7   8   4  11   7  10   1 <class 'pandas.core.frame.DataFrame'>\n"
     ]
    }
   ],
   "source": [
    "print(solution, type(solution))"
   ]
  }
 ],
 "metadata": {
  "kernelspec": {
   "display_name": "Python 3 (ipykernel)",
   "language": "python",
   "name": "python3"
  },
  "language_info": {
   "codemirror_mode": {
    "name": "ipython",
    "version": 3
   },
   "file_extension": ".py",
   "mimetype": "text/x-python",
   "name": "python",
   "nbconvert_exporter": "python",
   "pygments_lexer": "ipython3",
   "version": "3.7.9"
  }
 },
 "nbformat": 4,
 "nbformat_minor": 5
}
