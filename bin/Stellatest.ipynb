{
 "cells": [
  {
   "cell_type": "code",
   "execution_count": 10,
   "id": "c76090bd",
   "metadata": {},
   "outputs": [],
   "source": [
    "import os\n",
    "import sys\n",
    "import pandas as pd\n",
    "# from collections import defaultdict\n",
    "import timeit\n",
    "from docplex.cp.model import CpoModel\n",
    "sys.path.append('../')\n",
    "import src.music_functions\n",
    "#Custom Imports\n",
    "\n",
    "from src.chord import Chord\n",
    "from src.musical_work_input import MusicalWorkInput\n",
    "#from src.cp_model import CPModel\n",
    "\n",
    "# Importing Chord Vocabulary\n",
    "chord_df = pd.read_csv(\"../data/chord_vocabulary.csv\", index_col = 0)\n",
    "chord_vocab = []\n",
    "for name, note_intervals in chord_df.itertuples():\n",
    "    chord_vocab.append(Chord(name, set(int(x) for x in note_intervals.split(','))))\n",
    "\n",
    "# Importing Musical Corpus\n",
    "musical_work_df = pd.read_csv(\"../data/sample_input.csv\")\n",
    "musical_corpus = []\n",
    "for i, title, meter, key, tonality, first_on_beat, melody in musical_work_df.itertuples():\n",
    "    musical_corpus.append(MusicalWorkInput(title, meter, key, tonality, first_on_beat, [int(x) for x in melody.split(',')]))\n",
    "\n",
    "# Defining dictionary of hard and soft constraint options:\n",
    "hard_constraint_options = ['musical input', 'voice range', 'chord membership', 'first last chords',\n",
    "                           'chord bass repetition', 'adjacent bar chords', 'voice crossing', 'parallel movement',\n",
    "                          'chord spacing']\n",
    "\n",
    "soft_constraint_options = ['chord progression', 'chord bass repetition', 'leap resolution',\n",
    "                           'melodic movement', 'note repetition', 'parallel movement', 'voice overlap', 'adjacent bar chords',\n",
    "                           'chord spacing', 'distinct notes', 'voice crossing', 'voice range']\n",
    "\n"
   ]
  },
  {
   "cell_type": "code",
   "execution_count": 11,
   "id": "b1be063c",
   "metadata": {},
   "outputs": [
    {
     "name": "stdout",
     "output_type": "stream",
     "text": [
      "{0, 3, 7}\n",
      "{0, 4, 7}\n",
      "{9, 2, 5}\n",
      "{9, 2, 6}\n",
      "{11, 4, 7}\n",
      "{8, 11, 4}\n",
      "{8, 0, 5}\n",
      "{0, 9, 5}\n",
      "{10, 2, 7}\n",
      "{2, 11, 7}\n",
      "{0, 9, 4}\n",
      "{9, 4, 1}\n",
      "{2, 11, 5}\n",
      "{2, 11, 6}\n",
      "{3, 11, 6}\n"
     ]
    }
   ],
   "source": [
    "for x in chord_vocab:\n",
    "    print(x.note_intervals )"
   ]
  },
  {
   "cell_type": "code",
   "execution_count": 12,
   "id": "9b380d63",
   "metadata": {},
   "outputs": [],
   "source": [
    "import src.music_functions\n",
    "chord_vocab_ext = []\n",
    "for chord in chord_vocab:\n",
    "    chord_vocab_ext.append(src.music_functions.extend_range(src.music_functions.transpose(chord.note_intervals,0)))"
   ]
  },
  {
   "cell_type": "code",
   "execution_count": 13,
   "id": "2b6a0522",
   "metadata": {},
   "outputs": [
    {
     "name": "stdout",
     "output_type": "stream",
     "text": [
      "[-36, -24, -12, 0, 12, 24, 36, 48, 60, -33, -21, -9, 3, 15, 27, 39, 51, 63, -29, -17, -5, 7, 19, 31, 43, 55, 67]\n",
      "[-36, -24, -12, 0, 12, 24, 36, 48, 60, -32, -20, -8, 4, 16, 28, 40, 52, 64, -29, -17, -5, 7, 19, 31, 43, 55, 67]\n",
      "[-27, -15, -3, 9, 21, 33, 45, 57, 69, -34, -22, -10, 2, 14, 26, 38, 50, 62, -31, -19, -7, 5, 17, 29, 41, 53, 65]\n",
      "[-27, -15, -3, 9, 21, 33, 45, 57, 69, -34, -22, -10, 2, 14, 26, 38, 50, 62, -30, -18, -6, 6, 18, 30, 42, 54, 66]\n",
      "[-25, -13, -1, 11, 23, 35, 47, 59, 71, -32, -20, -8, 4, 16, 28, 40, 52, 64, -29, -17, -5, 7, 19, 31, 43, 55, 67]\n",
      "[-28, -16, -4, 8, 20, 32, 44, 56, 68, -25, -13, -1, 11, 23, 35, 47, 59, 71, -32, -20, -8, 4, 16, 28, 40, 52, 64]\n",
      "[-28, -16, -4, 8, 20, 32, 44, 56, 68, -36, -24, -12, 0, 12, 24, 36, 48, 60, -31, -19, -7, 5, 17, 29, 41, 53, 65]\n",
      "[-36, -24, -12, 0, 12, 24, 36, 48, 60, -27, -15, -3, 9, 21, 33, 45, 57, 69, -31, -19, -7, 5, 17, 29, 41, 53, 65]\n",
      "[-26, -14, -2, 10, 22, 34, 46, 58, 70, -34, -22, -10, 2, 14, 26, 38, 50, 62, -29, -17, -5, 7, 19, 31, 43, 55, 67]\n",
      "[-34, -22, -10, 2, 14, 26, 38, 50, 62, -25, -13, -1, 11, 23, 35, 47, 59, 71, -29, -17, -5, 7, 19, 31, 43, 55, 67]\n",
      "[-36, -24, -12, 0, 12, 24, 36, 48, 60, -27, -15, -3, 9, 21, 33, 45, 57, 69, -32, -20, -8, 4, 16, 28, 40, 52, 64]\n",
      "[-27, -15, -3, 9, 21, 33, 45, 57, 69, -32, -20, -8, 4, 16, 28, 40, 52, 64, -35, -23, -11, 1, 13, 25, 37, 49, 61]\n",
      "[-34, -22, -10, 2, 14, 26, 38, 50, 62, -25, -13, -1, 11, 23, 35, 47, 59, 71, -31, -19, -7, 5, 17, 29, 41, 53, 65]\n",
      "[-34, -22, -10, 2, 14, 26, 38, 50, 62, -25, -13, -1, 11, 23, 35, 47, 59, 71, -30, -18, -6, 6, 18, 30, 42, 54, 66]\n",
      "[-33, -21, -9, 3, 15, 27, 39, 51, 63, -25, -13, -1, 11, 23, 35, 47, 59, 71, -30, -18, -6, 6, 18, 30, 42, 54, 66]\n"
     ]
    }
   ],
   "source": [
    "for x in chord_vocab_ext:\n",
    "    print( x)"
   ]
  },
  {
   "cell_type": "code",
   "execution_count": 6,
   "id": "d5b2b7cf",
   "metadata": {},
   "outputs": [
    {
     "ename": "NameError",
     "evalue": "name 'CPModel' is not defined",
     "output_type": "error",
     "traceback": [
      "\u001b[1;31m---------------------------------------------------------------------------\u001b[0m",
      "\u001b[1;31mNameError\u001b[0m                                 Traceback (most recent call last)",
      "\u001b[1;32m<ipython-input-6-75bd9d3a25ec>\u001b[0m in \u001b[0;36m<module>\u001b[1;34m\u001b[0m\n\u001b[0;32m      1\u001b[0m \u001b[1;31m# Model\u001b[0m\u001b[1;33m\u001b[0m\u001b[1;33m\u001b[0m\u001b[1;33m\u001b[0m\u001b[0m\n\u001b[1;32m----> 2\u001b[1;33m \u001b[0mcp_model\u001b[0m \u001b[1;33m=\u001b[0m \u001b[0mCPModel\u001b[0m\u001b[1;33m(\u001b[0m\u001b[1;34m\"test\"\u001b[0m\u001b[1;33m,\u001b[0m \u001b[0mmusical_corpus\u001b[0m\u001b[1;33m[\u001b[0m\u001b[1;36m0\u001b[0m\u001b[1;33m]\u001b[0m\u001b[1;33m,\u001b[0m \u001b[0mchord_vocab\u001b[0m\u001b[1;33m)\u001b[0m\u001b[1;33m\u001b[0m\u001b[1;33m\u001b[0m\u001b[0m\n\u001b[0m\u001b[0;32m      3\u001b[0m \u001b[1;33m\u001b[0m\u001b[0m\n\u001b[0;32m      4\u001b[0m \u001b[0msolution\u001b[0m \u001b[1;33m=\u001b[0m \u001b[0mcp_model\u001b[0m\u001b[1;33m.\u001b[0m\u001b[0msolve\u001b[0m\u001b[1;33m(\u001b[0m\u001b[1;33m)\u001b[0m\u001b[1;33m\u001b[0m\u001b[1;33m\u001b[0m\u001b[0m\n",
      "\u001b[1;31mNameError\u001b[0m: name 'CPModel' is not defined"
     ]
    }
   ],
   "source": [
    "# Model\n",
    "cp_model = CPModel(\"test\", musical_corpus[0], chord_vocab)\n",
    "\n",
    "solution = cp_model.solve()"
   ]
  },
  {
   "cell_type": "code",
   "execution_count": null,
   "id": "db0bf837",
   "metadata": {},
   "outputs": [],
   "source": [
    "import pandas as pd\n",
    "df=pd.read_csv(\"../data/chord_progression_major_v1.csv\", header=1, index_col=0)\n",
    "reset_df=df.stack().reset_index()\n",
    "dic={}\n",
    "for index,row in reset_df.iterrows():\n",
    "    print(row)\n",
    "    dic[int(row[\"Chord_1\"]),int(row[\"level_1\"])]=row[0]"
   ]
  },
  {
   "cell_type": "code",
   "execution_count": null,
   "id": "73821641",
   "metadata": {},
   "outputs": [],
   "source": [
    "def func_get_progression_costs(filename):\n",
    "    df=pd.read_csv(\"../data/\"+filename, header=1, index_col=0)\n",
    "    reset_df=df.stack().reset_index()\n",
    "    dic={}\n",
    "    for index,row in reset_df.iterrows():\n",
    "        #print(row)\n",
    "        dic[int(row[\"Chord_1\"]),int(row[\"level_1\"])]=row[0]\n",
    "    return(dic)\n",
    "func_get_progression_costs(filename)"
   ]
  },
  {
   "cell_type": "code",
   "execution_count": null,
   "id": "2b15aa1c",
   "metadata": {},
   "outputs": [],
   "source": []
  },
  {
   "cell_type": "code",
   "execution_count": null,
   "id": "750bfc93",
   "metadata": {},
   "outputs": [],
   "source": []
  }
 ],
 "metadata": {
  "kernelspec": {
   "display_name": "Python 3",
   "language": "python",
   "name": "python3"
  },
  "language_info": {
   "codemirror_mode": {
    "name": "ipython",
    "version": 3
   },
   "file_extension": ".py",
   "mimetype": "text/x-python",
   "name": "python",
   "nbconvert_exporter": "python",
   "pygments_lexer": "ipython3",
   "version": "3.7.10"
  }
 },
 "nbformat": 4,
 "nbformat_minor": 5
}
