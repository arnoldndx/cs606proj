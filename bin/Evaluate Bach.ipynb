{
 "cells": [
  {
   "cell_type": "code",
   "execution_count": 1,
   "id": "f55b62b8",
   "metadata": {},
   "outputs": [],
   "source": [
    "import sys\n",
    "import pandas as pd\n",
    "sys.path.append('../')\n",
    "from src.evaluate import *"
   ]
  },
  {
   "cell_type": "code",
   "execution_count": 2,
   "id": "ca0d56c5",
   "metadata": {},
   "outputs": [],
   "source": [
    "# Importing Chord Vocabulary\n",
    "chord_df_major = pd.read_csv(\"../data/chord_vocabulary_major.csv\", index_col = 0)\n",
    "chord_df_minor = pd.read_csv(\"../data/chord_vocabulary_minor.csv\", index_col = 0)\n",
    "chord_vocab_major, chord_vocab_minor = [], []\n",
    "for index, name, note_intervals in chord_df_major.itertuples():\n",
    "    chord_vocab_major.append(Chord(index, name, [int(x) for x in note_intervals.split(',')]))\n",
    "for index, name, note_intervals in chord_df_minor.itertuples():\n",
    "    chord_vocab_minor.append(Chord(index, name, [int(x) for x in note_intervals.split(',')]))"
   ]
  },
  {
   "cell_type": "code",
   "execution_count": 3,
   "id": "075d91ea",
   "metadata": {},
   "outputs": [],
   "source": [
    "# Defining penalties for chord progression\n",
    "penalties_chord_progression_major = pd.read_csv(\"../data/chord_progression_major.csv\", header = 1, index_col = 0)\n",
    "penalties_chord_progression_minor = pd.read_csv(\"../data/chord_progression_minor.csv\", header = 1, index_col = 0)\n",
    "penalties_chord_progression_major = dict(penalties_chord_progression_major.stack())\n",
    "penalties_chord_progression_minor = dict(penalties_chord_progression_minor.stack())"
   ]
  },
  {
   "cell_type": "code",
   "execution_count": 4,
   "id": "c2ff0a02",
   "metadata": {},
   "outputs": [],
   "source": [
    "# Importing Weights\n",
    "weight_df = pd.read_csv(\"../data/soft_constraint_weights_temp.csv\")\n",
    "\n",
    "# Defining dictionary of weights for each soft constraint option:\n",
    "soft_constraint_w_weights = {}\n",
    "for _, name, w in weight_df.itertuples(): #name population is same as soft_constraint_options\n",
    "    soft_constraint_w_weights[name] = float(w)\n",
    "assert sum(v for v in soft_constraint_w_weights.values() if v > 0) == 100"
   ]
  },
  {
   "cell_type": "code",
   "execution_count": 5,
   "id": "afb051de",
   "metadata": {},
   "outputs": [],
   "source": [
    "# Defining dictionary of hard and soft constraint options:\n",
    "hard_constraint_options = ['musical input', 'voice range', 'chord membership', 'first last chords',\n",
    "                           'chord repetition', 'chord bass repetition', 'adjacent bar chords', 'voice crossing', 'parallel movement',\n",
    "                          'chord spacing', 'incomplete chord', 'chord distribution']\n",
    "soft_constraint_options = ['chord progression', 'chord repetition', 'chord bass repetition', 'leap resolution',\n",
    "                           'melodic movement', 'note repetition', 'parallel movement', 'voice overlap', 'adjacent bar chords',\n",
    "                           'chord spacing', 'distinct notes', 'incomplete chord', 'voice crossing', 'voice range',\n",
    "                           'second inversion', 'first inversion', 'chord distribution']"
   ]
  },
  {
   "cell_type": "code",
   "execution_count": 6,
   "id": "2777674b",
   "metadata": {},
   "outputs": [],
   "source": [
    "# Defining which hard constraints to use\n",
    "hard_constraints = {x: True if x in ['musical input', 'voice range', 'chord membership', 'first last chords',\n",
    "                                     'voice crossing', 'parallel movement',\n",
    "                                     'chord spacing', 'incomplete chord'] else False for x in hard_constraint_options}"
   ]
  },
  {
   "cell_type": "code",
   "execution_count": 7,
   "id": "513e66d2",
   "metadata": {},
   "outputs": [],
   "source": [
    "# Test Case Characteristics\n",
    "key = 9\n",
    "tonality = 'major'\n",
    "meter = 4\n",
    "first_on_beat = 2\n",
    "mode = 'D'"
   ]
  },
  {
   "cell_type": "code",
   "execution_count": 8,
   "id": "21d59fca",
   "metadata": {},
   "outputs": [],
   "source": [
    "if tonality == 'major':\n",
    "    penalties_chord_progression = penalties_chord_progression_major\n",
    "    chord_vocab = chord_vocab_major\n",
    "else:\n",
    "    penalties_chord_progression = penalties_chord_progression_minor\n",
    "    chord_vocab = chord_vocab_minor "
   ]
  },
  {
   "cell_type": "code",
   "execution_count": 12,
   "id": "3601bb2b",
   "metadata": {},
   "outputs": [],
   "source": [
    "# Importing Test Case\n",
    "test_case = pd.read_csv(\"../data/Ach_bleib'_bei_uns_Herr_Jesu_Christ_(part)_transcription.csv\", skiprows = 5, header = None, index_col = 0)\n",
    "list_x = list(test_case.iloc[:-1,-1].apply(lambda y: y.split(', ')))\n",
    "list_x = [[int(x) for x in i] for i in list_x]\n",
    "list_c_names = test_case.loc['Chords'].apply(lambda y: y.replace('\\'','').split(', ')).iloc[0]\n",
    "list_c = []\n",
    "for chord_name in list_c_names:\n",
    "    exists = False\n",
    "    for chord in chord_vocab:\n",
    "        if chord.name == chord_name:\n",
    "            exists = True\n",
    "            list_c.append(chord.index)\n",
    "            break\n",
    "    if not exists:\n",
    "        list_c.append(-1)"
   ]
  },
  {
   "cell_type": "code",
   "execution_count": 13,
   "id": "8a89b342",
   "metadata": {},
   "outputs": [
    {
     "data": {
      "text/plain": [
       "[0, 0, 7, 0, 6, -1, 0, 6, 0, 7, 8, 6, 6, 0, 0, 7, 7, 0, 0, 0]"
      ]
     },
     "execution_count": 13,
     "metadata": {},
     "output_type": "execute_result"
    }
   ],
   "source": [
    "list_c"
   ]
  },
  {
   "cell_type": "code",
   "execution_count": 14,
   "id": "42ad19ba",
   "metadata": {},
   "outputs": [
    {
     "data": {
      "text/plain": [
       "{'hard constraint voice range': 0,\n",
       " 'hard constraint chord membership': 8000,\n",
       " 'hard constraint first last chords': 0,\n",
       " 'hard constraint chord repetition': 0,\n",
       " 'hard constraint chord bass repetition': 0,\n",
       " 'hard constraint adjacent bar chords': 0,\n",
       " 'hard constraint voice crossing': 0,\n",
       " 'hard constraint parallel movement': 0,\n",
       " 'hard constraint chord spacing': 1000,\n",
       " 'hard constraint incomplete chord': 4000,\n",
       " 'hard constraint chord distribution': 0,\n",
       " 'soft constraint chord progression': 110.00000000000001,\n",
       " 'soft constraint chord repetition': 24.0,\n",
       " 'soft constraint chord bass repetition': 9.0,\n",
       " 'soft constraint leap resolution': 0,\n",
       " 'soft constraint melodic movement': 81.33333333333333,\n",
       " 'soft constraint note repetition': 27.0,\n",
       " 'soft constraint parallel movement': 0,\n",
       " 'soft constraint voice overlap': 3.0,\n",
       " 'soft constraint adjacent bar chords': 0,\n",
       " 'soft constraint chord spacing': 0,\n",
       " 'soft constraint distinct notes': 40.0,\n",
       " 'soft constraint incomplete chord': 0,\n",
       " 'soft constraint voice crossing': 0,\n",
       " 'soft constraint voice range': 5.0,\n",
       " 'soft constraint second inversion': 0.0,\n",
       " 'soft constraint first inversion': 4.0,\n",
       " 'soft constraint chord distribution': 60.0}"
      ]
     },
     "execution_count": 14,
     "metadata": {},
     "output_type": "execute_result"
    }
   ],
   "source": [
    "bach_cost = evaluate_cost(list_x, list_c, key, tonality, meter, first_on_beat, mode,\n",
    "                  chord_vocab,\n",
    "                  penalties_chord_progression,\n",
    "                  hard_constraints, 1000,\n",
    "                  soft_constraint_w_weights)\n",
    "#To remove things like chord membership, chord progression and find another way to account for them with other calls to evaluate cost"
   ]
  },
  {
   "cell_type": "code",
   "execution_count": null,
   "id": "04760700",
   "metadata": {},
   "outputs": [],
   "source": []
  },
  {
   "cell_type": "code",
   "execution_count": null,
   "id": "d2401201",
   "metadata": {},
   "outputs": [],
   "source": []
  }
 ],
 "metadata": {
  "kernelspec": {
   "display_name": "Python 3",
   "language": "python",
   "name": "python3"
  },
  "language_info": {
   "codemirror_mode": {
    "name": "ipython",
    "version": 3
   },
   "file_extension": ".py",
   "mimetype": "text/x-python",
   "name": "python",
   "nbconvert_exporter": "python",
   "pygments_lexer": "ipython3",
   "version": "3.8.8"
  }
 },
 "nbformat": 4,
 "nbformat_minor": 5
}
