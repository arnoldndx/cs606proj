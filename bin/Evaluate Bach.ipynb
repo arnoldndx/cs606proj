{
 "cells": [
  {
   "cell_type": "code",
   "execution_count": 1,
   "id": "9a1b9899",
   "metadata": {},
   "outputs": [],
   "source": [
    "import sys\n",
    "import pandas as pd\n",
    "sys.path.append('../')\n",
    "from src.evaluate import *\n",
    "from src.midi_processing import *"
   ]
  },
  {
   "cell_type": "code",
   "execution_count": 2,
   "id": "98938dfc",
   "metadata": {},
   "outputs": [],
   "source": [
    "# Importing Chord Vocabulary\n",
    "chord_df_major = pd.read_csv(\"../data/chord_vocabulary_major.csv\", index_col = 0)\n",
    "chord_df_minor = pd.read_csv(\"../data/chord_vocabulary_minor.csv\", index_col = 0)\n",
    "chord_vocab_major, chord_vocab_minor = [], []\n",
    "for index, name, note_intervals in chord_df_major.itertuples():\n",
    "    chord_vocab_major.append(Chord(index, name, [int(x) for x in note_intervals.split(',')]))\n",
    "for index, name, note_intervals in chord_df_minor.itertuples():\n",
    "    chord_vocab_minor.append(Chord(index, name, [int(x) for x in note_intervals.split(',')]))"
   ]
  },
  {
   "cell_type": "code",
   "execution_count": 3,
   "id": "4f21142d",
   "metadata": {},
   "outputs": [],
   "source": [
    "# Defining penalties for chord progression\n",
    "penalties_chord_progression_major = pd.read_csv(\"../data/chord_progression_major.csv\", header = 1, index_col = 0)\n",
    "penalties_chord_progression_minor = pd.read_csv(\"../data/chord_progression_minor.csv\", header = 1, index_col = 0)\n",
    "penalties_chord_progression_major = dict(penalties_chord_progression_major.stack())\n",
    "penalties_chord_progression_minor = dict(penalties_chord_progression_minor.stack())"
   ]
  },
  {
   "cell_type": "code",
   "execution_count": 4,
   "id": "461ad87f",
   "metadata": {},
   "outputs": [],
   "source": [
    "# Importing Weights\n",
    "weight_df = pd.read_csv(\"../data/soft_constraint_weights_temp.csv\")\n",
    "\n",
    "# Defining dictionary of weights for each soft constraint option:\n",
    "soft_constraint_w_weights = {}\n",
    "for _, name, w in weight_df.itertuples(): #name population is same as soft_constraint_options\n",
    "    soft_constraint_w_weights[name] = float(w)\n",
    "assert sum(v for v in soft_constraint_w_weights.values() if v > 0) == 100"
   ]
  },
  {
   "cell_type": "code",
   "execution_count": 5,
   "id": "c79fd3bf",
   "metadata": {},
   "outputs": [],
   "source": [
    "# Defining dictionary of hard and soft constraint options:\n",
    "hard_constraint_options = ['musical input', 'voice range', 'chord membership', 'first last chords',\n",
    "                           'chord repetition', 'chord bass repetition', 'adjacent bar chords', 'voice crossing', 'parallel movement',\n",
    "                          'chord spacing', 'incomplete chord', 'chord distribution']\n",
    "soft_constraint_options = ['chord progression', 'chord repetition', 'chord bass repetition', 'leap resolution',\n",
    "                           'melodic movement', 'note repetition', 'parallel movement', 'voice overlap', 'adjacent bar chords',\n",
    "                           'chord spacing', 'distinct notes', 'incomplete chord', 'voice crossing', 'voice range',\n",
    "                           'second inversion', 'first inversion', 'chord distribution']"
   ]
  },
  {
   "cell_type": "code",
   "execution_count": 6,
   "id": "0af46986",
   "metadata": {},
   "outputs": [],
   "source": [
    "# Defining which hard constraints to use\n",
    "hard_constraints = {x: True if x in ['musical input', 'voice range', 'chord membership', 'first last chords',\n",
    "                                     'voice crossing', 'parallel movement',\n",
    "                                     'chord spacing', 'incomplete chord'] else False for x in hard_constraint_options}"
   ]
  },
  {
   "cell_type": "code",
   "execution_count": 7,
   "id": "3e35f128",
   "metadata": {},
   "outputs": [],
   "source": [
    "# Test Case Characteristics\n",
    "key = 9\n",
    "tonality = 'major'\n",
    "meter = 4\n",
    "first_on_beat = 2\n",
    "mode = 'D'"
   ]
  },
  {
   "cell_type": "code",
   "execution_count": 8,
   "id": "ac35f258",
   "metadata": {},
   "outputs": [],
   "source": [
    "if tonality == 'major':\n",
    "    penalties_chord_progression = penalties_chord_progression_major\n",
    "    chord_vocab = chord_vocab_major\n",
    "else:\n",
    "    penalties_chord_progression = penalties_chord_progression_minor\n",
    "    chord_vocab = chord_vocab_minor "
   ]
  },
  {
   "cell_type": "code",
   "execution_count": 9,
   "id": "ceaac095",
   "metadata": {},
   "outputs": [],
   "source": [
    "# Importing Test Case\n",
    "test_case = pd.read_csv(\"../data/Ach_bleib'_bei_uns_Herr_Jesu_Christ_(part)_transcription.csv\", skiprows = 5, header = None, index_col = 0)\n",
    "list_x = list(test_case.iloc[:-1,-1].apply(lambda y: y.split(', ')))\n",
    "list_x = [[int(x) for x in i] for i in list_x]\n",
    "list_c_names = test_case.loc['Chords'].apply(lambda y: y.replace('\\'','').split(', ')).iloc[0]\n",
    "list_c = []\n",
    "for chord_name in list_c_names:\n",
    "    exists = False\n",
    "    for chord in chord_vocab:\n",
    "        if chord.name == chord_name:\n",
    "            exists = True\n",
    "            list_c.append(chord.index)\n",
    "            break\n",
    "    if not exists:\n",
    "        list_c.append(-1)"
   ]
  },
  {
   "cell_type": "code",
   "execution_count": 10,
   "id": "0ee65a10",
   "metadata": {},
   "outputs": [],
   "source": [
    "bach_cost = evaluate_cost(list_x, list_c, key, tonality, meter, first_on_beat, mode,\n",
    "                  chord_vocab,\n",
    "                  penalties_chord_progression,\n",
    "                  hard_constraints, 1000,\n",
    "                  soft_constraint_w_weights)"
   ]
  },
  {
   "cell_type": "code",
   "execution_count": 11,
   "id": "c16cbf6a",
   "metadata": {},
   "outputs": [],
   "source": [
    "bach_cost_chord_membership = evaluate_cost([x[:5]+x[6:] for x in list_x], list_c[:5]+list_c[6:], key, tonality, meter, first_on_beat, mode,\n",
    "                  chord_vocab,\n",
    "                  penalties_chord_progression,\n",
    "                  {k: True if k == 'chord membership' else False for k in hard_constraint_options}, 1000,\n",
    "                  soft_constraint_w_weights)"
   ]
  },
  {
   "cell_type": "code",
   "execution_count": 12,
   "id": "0cbbbb4e",
   "metadata": {
    "scrolled": true
   },
   "outputs": [
    {
     "name": "stdout",
     "output_type": "stream",
     "text": [
      "216.0\n"
     ]
    }
   ],
   "source": [
    "ignore = ['hard constraint chord membership', 'hard constraint chord spacing', 'hard constraint incomplete chord', 'soft constraint chord progression']\n",
    "total_bach_cost = sum(v for k, v in bach_cost.items() if k not in ignore) + sum(v for k, v in bach_cost_chord_membership.items() if k in ignore)\n",
    "print(total_bach_cost)"
   ]
  },
  {
   "cell_type": "code",
   "execution_count": 13,
   "id": "7bfc43f8",
   "metadata": {},
   "outputs": [],
   "source": [
    "#bach_cost"
   ]
  },
  {
   "cell_type": "code",
   "execution_count": 14,
   "id": "a9130c2c",
   "metadata": {},
   "outputs": [],
   "source": [
    "#bach_cost_chord_membership"
   ]
  },
  {
   "cell_type": "code",
   "execution_count": 15,
   "id": "c61c74f9",
   "metadata": {},
   "outputs": [],
   "source": [
    "#array_to_midi(list_x, [20]*4, beat = 600, dest_file_path = '../outputs/bach_Ach bleib\\' bei unsm Herr Jesu Christ (part).mid', held_notes = False, offset = 3)"
   ]
  }
 ],
 "metadata": {
  "kernelspec": {
   "display_name": "Python 3",
   "language": "python",
   "name": "python3"
  },
  "language_info": {
   "codemirror_mode": {
    "name": "ipython",
    "version": 3
   },
   "file_extension": ".py",
   "mimetype": "text/x-python",
   "name": "python",
   "nbconvert_exporter": "python",
   "pygments_lexer": "ipython3",
   "version": "3.8.8"
  }
 },
 "nbformat": 4,
 "nbformat_minor": 5
}
