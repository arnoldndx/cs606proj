{
 "cells": [
  {
   "cell_type": "code",
   "execution_count": 1,
   "id": "b663e155",
   "metadata": {},
   "outputs": [],
   "source": [
    "#Standard Imports\n",
    "import os\n",
    "import sys"
   ]
  },
  {
   "cell_type": "code",
   "execution_count": 2,
   "id": "9a1b9899",
   "metadata": {},
   "outputs": [],
   "source": [
    "#Custom Imports\n",
    "sys.path.append('../')\n",
    "from src.chord import Chord\n",
    "from src.musical_work_input import MusicalWorkInput\n",
    "from src.music_functions import *\n",
    "from src.evaluate_bach import *\n",
    "from src.midi_processing import *"
   ]
  },
  {
   "cell_type": "code",
   "execution_count": 3,
   "id": "98938dfc",
   "metadata": {},
   "outputs": [],
   "source": [
    "# Importing Chord Vocabulary\n",
    "chord_df_major = pd.read_csv(\"../data/chord_vocabulary_major.csv\", index_col = 0)\n",
    "chord_df_minor = pd.read_csv(\"../data/chord_vocabulary_minor.csv\", index_col = 0)\n",
    "chord_vocab_major, chord_vocab_minor = [], []\n",
    "for index, name, note_intervals in chord_df_major.itertuples():\n",
    "    chord_vocab_major.append(Chord(index, name, [int(x) for x in note_intervals.split(',')]))\n",
    "for index, name, note_intervals in chord_df_minor.itertuples():\n",
    "    chord_vocab_minor.append(Chord(index, name, [int(x) for x in note_intervals.split(',')]))"
   ]
  },
  {
   "cell_type": "code",
   "execution_count": 4,
   "id": "4f21142d",
   "metadata": {},
   "outputs": [],
   "source": [
    "# Defining penalties for chord progression\n",
    "penalties_chord_progression_major = pd.read_csv(\"../data/chord_progression_major.csv\", header = 1, index_col = 0)\n",
    "penalties_chord_progression_minor = pd.read_csv(\"../data/chord_progression_minor.csv\", header = 1, index_col = 0)\n",
    "penalties_chord_progression_major = dict(penalties_chord_progression_major.stack())\n",
    "penalties_chord_progression_minor = dict(penalties_chord_progression_minor.stack())"
   ]
  },
  {
   "cell_type": "code",
   "execution_count": 5,
   "id": "461ad87f",
   "metadata": {},
   "outputs": [],
   "source": [
    "# Importing Weights\n",
    "weight_df = pd.read_csv(\"../data/soft_constraint_weights_temp.csv\")\n",
    "\n",
    "# Defining dictionary of weights for each soft constraint option:\n",
    "soft_constraint_w_weights = {}\n",
    "for _, name, w in weight_df.itertuples(): #name population is same as soft_constraint_options\n",
    "    soft_constraint_w_weights[name] = float(w)\n",
    "assert sum(v for v in soft_constraint_w_weights.values() if v > 0) == 100"
   ]
  },
  {
   "cell_type": "code",
   "execution_count": 6,
   "id": "c79fd3bf",
   "metadata": {},
   "outputs": [],
   "source": [
    "# Defining dictionary of hard and soft constraint options:\n",
    "hard_constraint_options = ['musical input', 'voice range', 'chord membership', 'first last chords',\n",
    "                           'chord repetition', 'chord bass repetition', 'adjacent bar chords', 'voice crossing', 'parallel movement',\n",
    "                          'chord spacing', 'incomplete chord', 'chord distribution']\n",
    "soft_constraint_options = ['chord progression', 'chord repetition', 'chord bass repetition', 'leap resolution',\n",
    "                           'melodic movement', 'note repetition', 'parallel movement', 'voice overlap', 'adjacent bar chords',\n",
    "                           'chord spacing', 'distinct notes', 'incomplete chord', 'voice crossing', 'voice range',\n",
    "                           'second inversion', 'first inversion', 'chord distribution']"
   ]
  },
  {
   "cell_type": "code",
   "execution_count": 7,
   "id": "0af46986",
   "metadata": {},
   "outputs": [],
   "source": [
    "# Defining which hard constraints to use\n",
    "hard_constraints = {x: True if x in ['musical input', 'voice range', 'chord membership', 'first last chords',\n",
    "                                     'voice crossing', 'parallel movement',\n",
    "                                     'chord spacing', 'incomplete chord'] else False for x in hard_constraint_options}"
   ]
  },
  {
   "cell_type": "code",
   "execution_count": 8,
   "id": "3e35f128",
   "metadata": {},
   "outputs": [],
   "source": [
    "# Test Case 1\n",
    "key = 2\n",
    "tonality = 'minor'\n",
    "meter = 4\n",
    "first_on_beat = 2\n",
    "mode = 'D'"
   ]
  },
  {
   "cell_type": "code",
   "execution_count": 9,
   "id": "ac35f258",
   "metadata": {},
   "outputs": [],
   "source": [
    "if tonality == 'major':\n",
    "    penalties_chord_progression = penalties_chord_progression_major\n",
    "    chord_vocab = chord_vocab_major\n",
    "else:\n",
    "    penalties_chord_progression = penalties_chord_progression_minor\n",
    "    chord_vocab = chord_vocab_minor "
   ]
  },
  {
   "cell_type": "code",
   "execution_count": 10,
   "id": "ceaac095",
   "metadata": {},
   "outputs": [],
   "source": [
    "# Importing Test Case 1\n",
    "test_case = pd.read_csv(\"../data/Ach_Gott_erhor'_mein_Seufzen_und_Wehklagen_transcription.csv\", skiprows = 5, header = None, index_col = 0)\n",
    "list_x = list(test_case.iloc[:-1,-1].apply(lambda y: y.split(', ')))\n",
    "list_x = [[int(x) for x in i] for i in list_x]\n",
    "list_c_names = test_case.loc['Chords'].apply(lambda y: y.replace('\\'','').split(', ')).iloc[0]\n",
    "list_c = []\n",
    "for chord_name in list_c_names:\n",
    "    exists = False\n",
    "    for chord in chord_vocab:\n",
    "        if chord.name == chord_name:\n",
    "            exists = True\n",
    "            list_c.append(chord.index)\n",
    "            break\n",
    "    if not exists:\n",
    "        list_c.append(-1)"
   ]
  },
  {
   "cell_type": "code",
   "execution_count": 11,
   "id": "0ee65a10",
   "metadata": {},
   "outputs": [],
   "source": [
    "bach_cost = evaluate_cost(list_x, list_c, key, tonality, meter, first_on_beat, mode,\n",
    "                  chord_vocab,\n",
    "                  penalties_chord_progression,\n",
    "                  hard_constraints, 1000,\n",
    "                  soft_constraint_w_weights)"
   ]
  },
  {
   "cell_type": "code",
   "execution_count": 12,
   "id": "6bf74ed9",
   "metadata": {},
   "outputs": [],
   "source": [
    "#[x[43] for x in list_x]"
   ]
  },
  {
   "cell_type": "code",
   "execution_count": 13,
   "id": "8c6606d9",
   "metadata": {
    "scrolled": true
   },
   "outputs": [],
   "source": [
    "#[(i,c) for i, c in enumerate(bach_cost['hard constraint incomplete chord']) if c > 0]"
   ]
  },
  {
   "cell_type": "code",
   "execution_count": 14,
   "id": "0bfd9a20",
   "metadata": {
    "collapsed": true
   },
   "outputs": [
    {
     "name": "stdout",
     "output_type": "stream",
     "text": [
      "hard constraint voice range 0\n",
      "hard constraint chord membership 6000\n",
      "hard constraint first last chords 0\n",
      "hard constraint chord repetition 0\n",
      "hard constraint chord bass repetition 0\n",
      "hard constraint adjacent bar chords 0\n",
      "hard constraint voice crossing 1000\n",
      "hard constraint parallel movement 1000\n",
      "hard constraint chord spacing 1000\n",
      "hard constraint incomplete chord 1000\n",
      "hard constraint chord distribution 0\n",
      "soft constraint chord progression 456.5\n",
      "soft constraint chord repetition 20.0\n",
      "soft constraint chord bass repetition 6.0\n",
      "soft constraint leap resolution 0\n",
      "soft constraint melodic movement 139.58333333333334\n",
      "soft constraint note repetition 9.0\n",
      "soft constraint parallel movement 0\n",
      "soft constraint voice overlap 3.0\n",
      "soft constraint adjacent bar chords 0\n",
      "soft constraint chord spacing 0\n",
      "soft constraint distinct notes 72.0\n",
      "soft constraint incomplete chord 0\n",
      "soft constraint voice crossing 0\n",
      "soft constraint voice range 4.0\n",
      "soft constraint second inversion 26.0\n",
      "soft constraint first inversion 13.0\n",
      "soft constraint chord distribution 63.0\n"
     ]
    }
   ],
   "source": [
    "for k, v in bach_cost.items():\n",
    "    try:\n",
    "        print(k, sum(v))\n",
    "    except:\n",
    "        print(k, v)"
   ]
  },
  {
   "cell_type": "code",
   "execution_count": 15,
   "id": "0cbbbb4e",
   "metadata": {
    "scrolled": true
   },
   "outputs": [
    {
     "name": "stdout",
     "output_type": "stream",
     "text": [
      "812.0833333333334\n",
      "36.0\n",
      "112.41666666666667\n",
      "309.5\n",
      "Bach violated 2 hard constraints: chord spacing (j = 7) and voice crossing (j = 13)\n"
     ]
    }
   ],
   "source": [
    "total_bach_cost = sum(sum(v) if 'hard constraint' not in k and isinstance(v, list) else v if 'hard constraint' not in k else 0 for k, v in bach_cost.items())\n",
    "print(total_bach_cost)\n",
    "bach_cost_4 = sum(sum(v[-4:]) if 'hard constraint' not in k and isinstance(v, list) else v if 'hard constraint' not in k else 0 for k, v in bach_cost.items())\n",
    "print(bach_cost_4)\n",
    "bach_cost_8 = sum(sum(v[-8:]) if 'hard constraint' not in k and isinstance(v, list) else v if 'hard constraint' not in k else 0 for k, v in bach_cost.items())\n",
    "print(bach_cost_8)\n",
    "bach_cost_16 = sum(sum(v[-16:]) if 'hard constraint' not in k and isinstance(v, list) else v if 'hard constraint' not in k else 0 for k, v in bach_cost.items())\n",
    "print(bach_cost_16)\n",
    "print('Bach violated 2 hard constraints: chord spacing (j = 7) and voice crossing (j = 13)')"
   ]
  },
  {
   "cell_type": "code",
   "execution_count": 16,
   "id": "1b84fda3",
   "metadata": {},
   "outputs": [],
   "source": [
    "# Test Case 2\n",
    "key = 0\n",
    "tonality = 'major'\n",
    "meter = 4\n",
    "first_on_beat = 2\n",
    "mode = 'D'"
   ]
  },
  {
   "cell_type": "code",
   "execution_count": 17,
   "id": "68936c0b",
   "metadata": {},
   "outputs": [],
   "source": [
    "if tonality == 'major':\n",
    "    penalties_chord_progression = penalties_chord_progression_major\n",
    "    chord_vocab = chord_vocab_major\n",
    "else:\n",
    "    penalties_chord_progression = penalties_chord_progression_minor\n",
    "    chord_vocab = chord_vocab_minor "
   ]
  },
  {
   "cell_type": "code",
   "execution_count": 18,
   "id": "b19aa34a",
   "metadata": {},
   "outputs": [],
   "source": [
    "# Importing Test Case 2\n",
    "test_case = pd.read_csv(\"../data/Ach_Gott_und_Herr_wie_gross_und_schwer_(part)_transcription.csv\", skiprows = 5, header = None, index_col = 0)\n",
    "list_x = list(test_case.iloc[:-1,-1].apply(lambda y: y.split(', ')))\n",
    "list_x = [[int(x) for x in i] for i in list_x]\n",
    "list_c_names = test_case.loc['Chords'].apply(lambda y: y.replace('\\'','').split(', ')).iloc[0]\n",
    "list_c = []\n",
    "for chord_name in list_c_names:\n",
    "    exists = False\n",
    "    for chord in chord_vocab:\n",
    "        if chord.name == chord_name:\n",
    "            exists = True\n",
    "            list_c.append(chord.index)\n",
    "            break\n",
    "    if not exists:\n",
    "        list_c.append(-1)"
   ]
  },
  {
   "cell_type": "code",
   "execution_count": 19,
   "id": "df7658fd",
   "metadata": {},
   "outputs": [],
   "source": [
    "bach_cost = evaluate_cost(list_x, list_c, key, tonality, meter, first_on_beat, mode,\n",
    "                  chord_vocab,\n",
    "                  penalties_chord_progression,\n",
    "                  hard_constraints, 1000,\n",
    "                  soft_constraint_w_weights)"
   ]
  },
  {
   "cell_type": "code",
   "execution_count": 20,
   "id": "c720db74",
   "metadata": {},
   "outputs": [
    {
     "name": "stdout",
     "output_type": "stream",
     "text": [
      "hard constraint voice range 0\n",
      "hard constraint chord membership 4000\n",
      "hard constraint first last chords 1000\n",
      "hard constraint chord repetition 0\n",
      "hard constraint chord bass repetition 0\n",
      "hard constraint adjacent bar chords 0\n",
      "hard constraint voice crossing 2000\n",
      "hard constraint parallel movement 0\n",
      "hard constraint chord spacing 1000\n",
      "hard constraint incomplete chord 2000\n",
      "hard constraint chord distribution 0\n",
      "soft constraint chord progression 143.0\n",
      "soft constraint chord repetition 8.0\n",
      "soft constraint chord bass repetition 3.0\n",
      "soft constraint leap resolution 0\n",
      "soft constraint melodic movement 43.33333333333333\n",
      "soft constraint note repetition 6.0\n",
      "soft constraint parallel movement 0\n",
      "soft constraint voice overlap 6.0\n",
      "soft constraint adjacent bar chords 0\n",
      "soft constraint chord spacing 0\n",
      "soft constraint distinct notes 18.0\n",
      "soft constraint incomplete chord 0\n",
      "soft constraint voice crossing 0\n",
      "soft constraint voice range 0.0\n",
      "soft constraint second inversion 26.0\n",
      "soft constraint first inversion 5.0\n",
      "soft constraint chord distribution 45.0\n"
     ]
    }
   ],
   "source": [
    "for k, v in bach_cost.items():\n",
    "    try:\n",
    "        print(k, sum(v))\n",
    "    except:\n",
    "        print(k, v)"
   ]
  },
  {
   "cell_type": "code",
   "execution_count": 21,
   "id": "ec3c25c1",
   "metadata": {},
   "outputs": [],
   "source": [
    "#[(i,c) for i, c in enumerate(bach_cost['hard constraint incomplete chord']) if c > 0]"
   ]
  },
  {
   "cell_type": "code",
   "execution_count": 22,
   "id": "4273cd8a",
   "metadata": {},
   "outputs": [
    {
     "name": "stdout",
     "output_type": "stream",
     "text": [
      "42.25\n",
      "163.83333333333334\n",
      "812.0833333333334\n",
      "Bach violated 3 hard constraints: voice crossing (j = 11, j = 12) and chord spacing (j = 12)\n"
     ]
    }
   ],
   "source": [
    "bach_cost_4 = sum(sum(v[-4:]) if 'hard constraint' not in k and isinstance(v, list) else v if 'hard constraint' not in k else 0 for k, v in bach_cost.items())\n",
    "print(bach_cost_4)\n",
    "bach_cost_8 = sum(sum(v[-8:]) if 'hard constraint' not in k and isinstance(v, list) else v if 'hard constraint' not in k else 0 for k, v in bach_cost.items())\n",
    "print(bach_cost_8)\n",
    "bach_cost_16 = sum(sum(v) if 'hard constraint' not in k and isinstance(v, list) else v if 'hard constraint' not in k else 0 for k, v in bach_cost.items())\n",
    "print(total_bach_cost)\n",
    "\n",
    "print('Bach violated 3 hard constraints: voice crossing (j = 11, j = 12) and chord spacing (j = 12)')"
   ]
  },
  {
   "cell_type": "code",
   "execution_count": 23,
   "id": "7bfc43f8",
   "metadata": {},
   "outputs": [],
   "source": [
    "#bach_cost"
   ]
  },
  {
   "cell_type": "code",
   "execution_count": 24,
   "id": "a9130c2c",
   "metadata": {},
   "outputs": [],
   "source": [
    "#bach_cost_chord_membership"
   ]
  },
  {
   "cell_type": "code",
   "execution_count": 25,
   "id": "c61c74f9",
   "metadata": {},
   "outputs": [],
   "source": [
    "#array_to_midi(list_x, [20]*4, beat = 600, dest_file_path = '../outputs/bach_Ach bleib\\' bei unsm Herr Jesu Christ (part).mid', held_notes = False, offset = 3)"
   ]
  }
 ],
 "metadata": {
  "kernelspec": {
   "display_name": "Python 3",
   "language": "python",
   "name": "python3"
  },
  "language_info": {
   "codemirror_mode": {
    "name": "ipython",
    "version": 3
   },
   "file_extension": ".py",
   "mimetype": "text/x-python",
   "name": "python",
   "nbconvert_exporter": "python",
   "pygments_lexer": "ipython3",
   "version": "3.8.8"
  }
 },
 "nbformat": 4,
 "nbformat_minor": 5
}
