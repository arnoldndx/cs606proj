{
 "cells": [
  {
   "cell_type": "code",
   "execution_count": 1,
   "id": "1f1c2e16",
   "metadata": {},
   "outputs": [],
   "source": [
    "import sys\n",
    "sys.path.append('../')\n",
    "from src.evaluate import *"
   ]
  },
  {
   "cell_type": "code",
   "execution_count": 2,
   "id": "d54ee3b9",
   "metadata": {},
   "outputs": [],
   "source": [
    "# Importing Chord Vocabulary\n",
    "chord_df_major = pd.read_csv(\"../data/chord_vocabulary_major.csv\", index_col = 0)\n",
    "chord_df_minor = pd.read_csv(\"../data/chord_vocabulary_minor.csv\", index_col = 0)\n",
    "chord_vocab_major, chord_vocab_minor = [], []\n",
    "for index, name, note_intervals in chord_df_major.itertuples():\n",
    "    chord_vocab_major.append(Chord(index, name, [int(x) for x in note_intervals.split(',')]))\n",
    "for index, name, note_intervals in chord_df_minor.itertuples():\n",
    "    chord_vocab_minor.append(Chord(index, name, [int(x) for x in note_intervals.split(',')]))"
   ]
  },
  {
   "cell_type": "code",
   "execution_count": 3,
   "id": "471405f0",
   "metadata": {},
   "outputs": [],
   "source": [
    "# Defining penalties for chord progression\n",
    "penalties_chord_progression_major = pd.read_csv(\"../data/chord_progression_major.csv\", header = 1, index_col = 0)\n",
    "penalties_chord_progression_minor = pd.read_csv(\"../data/chord_progression_minor.csv\", header = 1, index_col = 0)\n",
    "penalties_chord_progression_major = dict(penalties_chord_progression_major.stack())\n",
    "penalties_chord_progression_minor = dict(penalties_chord_progression_minor.stack())"
   ]
  },
  {
   "cell_type": "code",
   "execution_count": 4,
   "id": "bb035404",
   "metadata": {},
   "outputs": [],
   "source": [
    "# Defining soft constraint weights\n",
    "weight_df = pd.read_csv(\"../data/soft_constraint_weights_temp2.csv\")\n",
    "soft_constraint_weights={}\n",
    "for _, name, w in weight_df.itertuples(): #name population is same as soft_constraint_options\n",
    "    soft_constraint_weights[name] = float(w)"
   ]
  },
  {
   "cell_type": "code",
   "execution_count": 5,
   "id": "119db36d",
   "metadata": {},
   "outputs": [],
   "source": [
    "key = 0\n",
    "tonality = 'major'\n",
    "meter = 4\n",
    "first_on_beat = 0\n",
    "mode = \"D\""
   ]
  },
  {
   "cell_type": "code",
   "execution_count": 6,
   "id": "d4b5aaf3",
   "metadata": {},
   "outputs": [],
   "source": [
    "hard_constraint_options = ['musical input', 'voice range', 'chord membership', 'first last chords',\n",
    "                           'chord repetition', 'chord bass repetition', 'adjacent bar chords', 'voice crossing', 'parallel movement',\n",
    "                          'chord spacing', 'incomplete chord', 'chord distribution']"
   ]
  },
  {
   "cell_type": "code",
   "execution_count": 7,
   "id": "a8520bbd",
   "metadata": {},
   "outputs": [],
   "source": [
    "chord_vocab = chord_vocab_major if tonality == 'major' else chord_vocab_minor\n",
    "chord_progression_costs = penalties_chord_progression_major if tonality==\"major\" else penalties_chord_progression_minor\n",
    "\n",
    "hard_constraints = {x: True if x in ['musical input', 'voice range', 'chord membership', 'first last chords',\n",
    "                                     'voice crossing', 'parallel movement',\n",
    "                                     'chord spacing', 'incomplete chord'] else False for x in hard_constraint_options}"
   ]
  },
  {
   "cell_type": "code",
   "execution_count": 8,
   "id": "7570ca70",
   "metadata": {},
   "outputs": [],
   "source": [
    "my_x = [[40, 40, 41, 43, 43], [31, 31, 33, 36, 31], [24, 24, 24, 24, 28], [12, 12, 17, 16, 19]]\n",
    "my_c = [0, 0, 6, 0, 0]"
   ]
  },
  {
   "cell_type": "code",
   "execution_count": 9,
   "id": "f44f64b2",
   "metadata": {},
   "outputs": [
    {
     "data": {
      "text/plain": [
       "{'hard constraint voice range': 0,\n",
       " 'hard constraint chord membership': 0,\n",
       " 'hard constraint first last chords': 500,\n",
       " 'hard constraint chord repetition': 0,\n",
       " 'hard constraint chord bass repetition': 0,\n",
       " 'hard constraint adjacent bar chords': 0,\n",
       " 'hard constraint voice crossing': 0,\n",
       " 'hard constraint parallel movement': 0,\n",
       " 'hard constraint chord spacing': 0,\n",
       " 'hard constraint incomplete chord': 500,\n",
       " 'hard constraint chord distribution': 0,\n",
       " 'soft constraint chord progression': 0.0,\n",
       " 'soft constraint chord repetition': 10.0,\n",
       " 'soft constraint chord bass repetition': 5.0,\n",
       " 'soft constraint leap resolution': 0,\n",
       " 'soft constraint melodic movement': 9.583333333333332,\n",
       " 'soft constraint note repetition': 10.0,\n",
       " 'soft constraint parallel movement': 0.0,\n",
       " 'soft constraint voice overlap': 0.0,\n",
       " 'soft constraint adjacent bar chords': 5.0,\n",
       " 'soft constraint chord spacing': 0.0,\n",
       " 'soft constraint distinct notes': 5.0,\n",
       " 'soft constraint incomplete chord': 5.0,\n",
       " 'soft constraint voice crossing': 0.0,\n",
       " 'soft constraint voice range': 5.0,\n",
       " 'soft constraint second inversion': 5.0,\n",
       " 'soft constraint first inversion': 5.0,\n",
       " 'soft constraint chord distribution': 25.0}"
      ]
     },
     "execution_count": 9,
     "metadata": {},
     "output_type": "execute_result"
    }
   ],
   "source": [
    "evaluate_cost(my_x, my_c, key, tonality, meter, first_on_beat, mode,\n",
    "              chord_vocab = chord_vocab,\n",
    "              chord_progression_penalties = chord_progression_costs,\n",
    "              hard_constraints = hard_constraints,\n",
    "              hard_constraint_weight = 500,\n",
    "              soft_constraint_weights = soft_constraint_weights)"
   ]
  },
  {
   "cell_type": "code",
   "execution_count": null,
   "id": "33ec333c",
   "metadata": {},
   "outputs": [],
   "source": []
  }
 ],
 "metadata": {
  "kernelspec": {
   "display_name": "Python 3",
   "language": "python",
   "name": "python3"
  },
  "language_info": {
   "codemirror_mode": {
    "name": "ipython",
    "version": 3
   },
   "file_extension": ".py",
   "mimetype": "text/x-python",
   "name": "python",
   "nbconvert_exporter": "python",
   "pygments_lexer": "ipython3",
   "version": "3.8.8"
  }
 },
 "nbformat": 4,
 "nbformat_minor": 5
}
