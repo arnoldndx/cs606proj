{
 "cells": [
  {
   "cell_type": "code",
   "execution_count": 8,
   "id": "aede2877",
   "metadata": {},
   "outputs": [],
   "source": [
    "import os\n",
    "import sys\n",
    "import pandas as pd\n",
    "# from collections import defaultdict\n",
    "import timeit\n",
    "from docplex.cp.model import CpoModel\n",
    "import src.music_functions\n",
    "#Custom Imports\n",
    "sys.path.append('../')\n",
    "from src.chord import Chord\n",
    "from src.musical_work_input import MusicalWorkInput\n",
    "#from src.cp_model import CPModel\n",
    "\n",
    "# Importing Chord Vocabulary\n",
    "chord_df = pd.read_csv(\"../data/chord_vocabulary.csv\", index_col = 0)\n",
    "chord_vocab = []\n",
    "for name, note_intervals in chord_df.itertuples():\n",
    "    chord_vocab.append(Chord(name, set(int(x) for x in note_intervals.split(','))))\n",
    "\n",
    "# Importing Musical Corpus\n",
    "musical_work_df = pd.read_csv(\"../data/sample_input.csv\")\n",
    "musical_corpus = []\n",
    "for i, title, meter, key, tonality, first_on_beat, melody in musical_work_df.itertuples():\n",
    "    musical_corpus.append(MusicalWorkInput(title, meter, key, tonality, first_on_beat, [int(x) for x in melody.split(',')]))\n",
    "\n",
    "# Defining dictionary of hard and soft constraint options:\n",
    "hard_constraint_options = ['musical input', 'voice range', 'chord membership', 'first last chords',\n",
    "                           'chord bass repetition', 'adjacent bar chords', 'voice crossing', 'parallel movement',\n",
    "                          'chord spacing']\n",
    "\n",
    "soft_constraint_options = ['chord progression', 'chord bass repetition', 'leap resolution',\n",
    "                           'melodic movement', 'note repetition', 'parallel movement', 'voice overlap', 'adjacent bar chords',\n",
    "                           'chord spacing', 'distinct notes', 'voice crossing', 'voice range']\n",
    "\n"
   ]
  },
  {
   "cell_type": "code",
   "execution_count": 18,
   "id": "186f9586",
   "metadata": {},
   "outputs": [
    {
     "name": "stdout",
     "output_type": "stream",
     "text": [
      "{0, 3, 7}\n",
      "{0, 4, 7}\n",
      "{9, 2, 5}\n",
      "{9, 2, 6}\n",
      "{11, 4, 7}\n",
      "{8, 11, 4}\n",
      "{8, 0, 5}\n",
      "{0, 9, 5}\n",
      "{10, 2, 7}\n",
      "{2, 11, 7}\n",
      "{0, 9, 4}\n",
      "{9, 4, 1}\n",
      "{2, 11, 5}\n",
      "{2, 11, 6}\n",
      "{3, 11, 6}\n"
     ]
    }
   ],
   "source": [
    "for x in chord_vocab:\n",
    "    print(x.note_intervals )"
   ]
  },
  {
   "cell_type": "code",
   "execution_count": 12,
   "id": "cca0469e",
   "metadata": {},
   "outputs": [],
   "source": [
    "chord_vocab_ext = []\n",
    "for chord in chord_vocab:\n",
    "    chord_vocab_ext.append(src.music_functions.extend_range(src.music_functions.transpose(chord.note_intervals, 0)))"
   ]
  },
  {
   "cell_type": "code",
   "execution_count": 22,
   "id": "26198588",
   "metadata": {},
   "outputs": [
    {
     "name": "stdout",
     "output_type": "stream",
     "text": [
      "[-12, 0, 12, 24, 36, 48, 60, -9, 3, 15, 27, 39, 51, 63, -5, 7, 19, 31, 43, 55, 67]\n",
      "[-12, 0, 12, 24, 36, 48, 60, -8, 4, 16, 28, 40, 52, 64, -5, 7, 19, 31, 43, 55, 67]\n",
      "[-3, 9, 21, 33, 45, 57, 69, -10, 2, 14, 26, 38, 50, 62, -7, 5, 17, 29, 41, 53, 65]\n",
      "[-3, 9, 21, 33, 45, 57, 69, -10, 2, 14, 26, 38, 50, 62, -6, 6, 18, 30, 42, 54, 66]\n",
      "[-1, 11, 23, 35, 47, 59, 71, -8, 4, 16, 28, 40, 52, 64, -5, 7, 19, 31, 43, 55, 67]\n",
      "[-4, 8, 20, 32, 44, 56, 68, -1, 11, 23, 35, 47, 59, 71, -8, 4, 16, 28, 40, 52, 64]\n",
      "[-4, 8, 20, 32, 44, 56, 68, -12, 0, 12, 24, 36, 48, 60, -7, 5, 17, 29, 41, 53, 65]\n",
      "[-12, 0, 12, 24, 36, 48, 60, -3, 9, 21, 33, 45, 57, 69, -7, 5, 17, 29, 41, 53, 65]\n",
      "[-2, 10, 22, 34, 46, 58, 70, -10, 2, 14, 26, 38, 50, 62, -5, 7, 19, 31, 43, 55, 67]\n",
      "[-10, 2, 14, 26, 38, 50, 62, -1, 11, 23, 35, 47, 59, 71, -5, 7, 19, 31, 43, 55, 67]\n",
      "[-12, 0, 12, 24, 36, 48, 60, -3, 9, 21, 33, 45, 57, 69, -8, 4, 16, 28, 40, 52, 64]\n",
      "[-3, 9, 21, 33, 45, 57, 69, -8, 4, 16, 28, 40, 52, 64, -11, 1, 13, 25, 37, 49, 61]\n",
      "[-10, 2, 14, 26, 38, 50, 62, -1, 11, 23, 35, 47, 59, 71, -7, 5, 17, 29, 41, 53, 65]\n",
      "[-10, 2, 14, 26, 38, 50, 62, -1, 11, 23, 35, 47, 59, 71, -6, 6, 18, 30, 42, 54, 66]\n",
      "[-9, 3, 15, 27, 39, 51, 63, -1, 11, 23, 35, 47, 59, 71, -6, 6, 18, 30, 42, 54, 66]\n"
     ]
    }
   ],
   "source": [
    "for x in chord_vocab_ext:\n",
    "    print(x)"
   ]
  },
  {
   "cell_type": "code",
   "execution_count": null,
   "id": "64290573",
   "metadata": {},
   "outputs": [],
   "source": [
    "# Model\n",
    "cp_model = CPModel(\"test\", musical_corpus[0], chord_vocab)\n",
    "\n",
    "solution = cp_model.solve()"
   ]
  }
 ],
 "metadata": {
  "kernelspec": {
   "display_name": "Python 3",
   "language": "python",
   "name": "python3"
  },
  "language_info": {
   "codemirror_mode": {
    "name": "ipython",
    "version": 3
   },
   "file_extension": ".py",
   "mimetype": "text/x-python",
   "name": "python",
   "nbconvert_exporter": "python",
   "pygments_lexer": "ipython3",
   "version": "3.7.10"
  }
 },
 "nbformat": 4,
 "nbformat_minor": 5
}
