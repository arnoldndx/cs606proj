{
 "cells": [
  {
   "cell_type": "code",
   "execution_count": 1,
   "id": "2ae066b7",
   "metadata": {},
   "outputs": [],
   "source": [
    "#Standard Imports\n",
    "import os\n",
    "import sys\n",
    "import pandas as pd\n",
    "# from collections import defaultdict\n",
    "#import timeit\n",
    "from docplex.cp.model import CpoModel"
   ]
  },
  {
   "cell_type": "code",
   "execution_count": 2,
   "id": "0ab2c864",
   "metadata": {},
   "outputs": [],
   "source": [
    "#Custom Imports\n",
    "sys.path.append('../')\n",
    "from src.chord import Chord\n",
    "from src.musical_work_input import MusicalWorkInput\n",
    "from src.cp_model import *\n",
    "from src.music_functions import *\n",
    "from src.evaluate import *\n",
    "from src.midi_processing import *"
   ]
  },
  {
   "cell_type": "code",
   "execution_count": 3,
   "id": "0b509c4a",
   "metadata": {},
   "outputs": [],
   "source": [
    "# Importing Musical Corpus\n",
    "musical_work_df = pd.read_csv(\"../data/sample_input.csv\")\n",
    "musical_corpus = []\n",
    "for i, title, meter, key, tonality, first_on_beat, melody in musical_work_df.itertuples():\n",
    "    musical_corpus.append(MusicalWorkInput(title, meter, key, tonality, first_on_beat, [int(x) for x in melody.split(',')]))"
   ]
  },
  {
   "cell_type": "code",
   "execution_count": 4,
   "id": "55e8142d",
   "metadata": {},
   "outputs": [],
   "source": [
    "# Importing Chord Vocabulary\n",
    "chord_df_major = pd.read_csv(\"../data/chord_vocabulary_major.csv\", index_col = 0)\n",
    "chord_df_minor = pd.read_csv(\"../data/chord_vocabulary_minor.csv\", index_col = 0)\n",
    "chord_vocab_major, chord_vocab_minor = [], []\n",
    "for index, name, note_intervals in chord_df_major.itertuples():\n",
    "    chord_vocab_major.append(Chord(index, name, [int(x) for x in note_intervals.split(',')]))\n",
    "for index, name, note_intervals in chord_df_minor.itertuples():\n",
    "    chord_vocab_minor.append(Chord(index, name, [int(x) for x in note_intervals.split(',')]))"
   ]
  },
  {
   "cell_type": "code",
   "execution_count": 8,
   "id": "4827c983",
   "metadata": {},
   "outputs": [],
   "source": [
    "# Defining penalties for chord progression\n",
    "penalties_chord_progression_major = pd.read_csv(\"../data/chord_progression_major.csv\", header = 1, index_col = 0)\n",
    "penalties_chord_progression_minor = pd.read_csv(\"../data/chord_progression_minor.csv\", header = 1, index_col = 0)\n",
    "penalties_chord_progression_major = dict(penalties_chord_progression_major.stack())\n",
    "penalties_chord_progression_minor = dict(penalties_chord_progression_minor.stack())"
   ]
  },
  {
   "cell_type": "code",
   "execution_count": 9,
   "id": "4cb529d7",
   "metadata": {},
   "outputs": [],
   "source": [
    "# Importing Weights\n",
    "weight_df = pd.read_csv(\"../data/soft_constraint_weights_cp2.csv\")\n",
    "\n",
    "# Defining dictionary of weights for each soft constraint option:\n",
    "soft_constraint_w_weights = {}\n",
    "for _, name, w in weight_df.itertuples(): #name population is same as soft_constraint_options\n",
    "    soft_constraint_w_weights[name] = float(w)\n",
    "assert sum(v for v in soft_constraint_w_weights.values() if v > 0) == 100"
   ]
  },
  {
   "cell_type": "code",
   "execution_count": 10,
   "id": "943e29c5",
   "metadata": {},
   "outputs": [],
   "source": [
    "# Defining dictionary of hard and soft constraint options:\n",
    "hard_constraint_options = ['musical input', 'voice range', 'chord membership', 'first last chords',\n",
    "                           'chord repetition', 'chord bass repetition', 'adjacent bar chords', 'voice crossing', 'parallel movement',\n",
    "                          'chord spacing', 'incomplete chord', 'chord distribution']\n",
    "soft_constraint_options = ['chord progression', 'chord repetition', 'chord bass repetition', 'leap resolution',\n",
    "                           'melodic movement', 'note repetition', 'parallel movement', 'voice overlap', 'adjacent bar chords',\n",
    "                           'chord spacing', 'distinct notes', 'incomplete chord', 'voice crossing', 'voice range',\n",
    "                           'second inversion', 'first inversion', 'chord distribution']"
   ]
  },
  {
   "cell_type": "code",
   "execution_count": 11,
   "id": "b2f56cc9",
   "metadata": {},
   "outputs": [],
   "source": [
    "# Defining which hard constraints to use\n",
    "hard_constraints = {x: True if x in ['musical input', 'voice range', 'chord membership', 'first last chords',\n",
    "                                     'chord bass repetition', 'adjacent bar chords',\n",
    "                                     'voice crossing', 'parallel movement',\n",
    "                                     'chord spacing', 'incomplete chord'] else False for x in hard_constraint_options}"
   ]
  },
  {
   "cell_type": "code",
   "execution_count": 12,
   "id": "49fee84e",
   "metadata": {},
   "outputs": [
    {
     "data": {
      "text/plain": [
       "[<src.musical_work_input.MusicalWorkInput at 0x1f5f6303e50>,\n",
       " <src.musical_work_input.MusicalWorkInput at 0x1f5f329b9a0>,\n",
       " <src.musical_work_input.MusicalWorkInput at 0x1f5f32a3b20>,\n",
       " <src.musical_work_input.MusicalWorkInput at 0x1f5f32a31f0>,\n",
       " <src.musical_work_input.MusicalWorkInput at 0x1f5f32a32b0>,\n",
       " <src.musical_work_input.MusicalWorkInput at 0x1f5f66f9cd0>,\n",
       " <src.musical_work_input.MusicalWorkInput at 0x1f5f66f9bb0>,\n",
       " <src.musical_work_input.MusicalWorkInput at 0x1f5f66f9d00>,\n",
       " <src.musical_work_input.MusicalWorkInput at 0x1f5f66f9730>,\n",
       " <src.musical_work_input.MusicalWorkInput at 0x1f5f66f9d60>,\n",
       " <src.musical_work_input.MusicalWorkInput at 0x1f5f66f9d90>,\n",
       " <src.musical_work_input.MusicalWorkInput at 0x1f5f66f9dc0>,\n",
       " <src.musical_work_input.MusicalWorkInput at 0x1f5f66f9df0>,\n",
       " <src.musical_work_input.MusicalWorkInput at 0x1f5f66f9ac0>]"
      ]
     },
     "execution_count": 12,
     "metadata": {},
     "output_type": "execute_result"
    }
   ],
   "source": [
    "musical_corpus"
   ]
  },
  {
   "cell_type": "code",
   "execution_count": 13,
   "id": "ff3f61aa",
   "metadata": {},
   "outputs": [
    {
     "name": "stdout",
     "output_type": "stream",
     "text": [
      "********************\n",
      "Work: Ach Gott und Herr, wie gross und schwer (16)\n",
      "********************\n"
     ]
    }
   ],
   "source": [
    "# Model\n",
    "musical_work = musical_corpus[-1]\n",
    "\n",
    "print('*'*20)\n",
    "print('Work: {}'.format(musical_work.title))\n",
    "print('*'*20)\n",
    "    \n",
    "if musical_work.tonality == 'major':\n",
    "    penalties_chord_progression = penalties_chord_progression_major\n",
    "    chord_vocab = chord_vocab_major\n",
    "else:\n",
    "    penalties_chord_progression = penalties_chord_progression_minor\n",
    "    chord_vocab = chord_vocab_minor        \n",
    "    \n",
    "#Defining Model\n",
    "cp_model = CPModel('Completed_v2', musical_work, chord_vocab, penalties_chord_progression,\n",
    "                    hard_constraints,\n",
    "                    soft_constraint_w_weights)\n",
    "    \n",
    "#Solving Model\n",
    "# solution, progress_data = cp_model.solve(log_output = True, TimeLimit = 30, LogVerbosity = 'Verbose')\n",
    "#solution = cp_model.solve_old(log_output = True, TimeLimit = 30, LogVerbosity = 'Verbose')\n",
    "# result = cp_model.get_solution()\n"
   ]
  },
  {
   "cell_type": "code",
   "execution_count": 14,
   "id": "42eba5fb",
   "metadata": {},
   "outputs": [],
   "source": [
    "solution, progress_data = cp_model.solve(log_output = True, TimeLimit = 600, LogVerbosity = 'Verbose')"
   ]
  },
  {
   "cell_type": "code",
   "execution_count": 15,
   "id": "a7f3508d",
   "metadata": {},
   "outputs": [
    {
     "name": "stdout",
     "output_type": "stream",
     "text": [
      "[(0.9022364616394043, 295), (0.9294075965881348, 294), (1.3022935390472412, 265), (1.3335390090942383, 18)]\n"
     ]
    }
   ],
   "source": [
    "print(progress_data)"
   ]
  },
  {
   "cell_type": "code",
   "execution_count": null,
   "id": "2cf941a4",
   "metadata": {},
   "outputs": [],
   "source": [
    "'''list_x = cp_model.sol_var['Notes']\n",
    "list_c = []\n",
    "for chord_name in cp_model.sol_var['Chords']:\n",
    "    exists = False\n",
    "    for chord in chord_vocab:\n",
    "        if chord.name == chord_name:\n",
    "            exists = True\n",
    "            list_c.append(chord.index)\n",
    "            break\n",
    "    if not exists:\n",
    "        list_c.append(-1)'''"
   ]
  },
  {
   "cell_type": "code",
   "execution_count": null,
   "id": "53115e20",
   "metadata": {},
   "outputs": [],
   "source": [
    "'''total_cp_cost = evaluate_cost(list_x, list_c, cp_model.K, cp_model.musical_input.tonality,\n",
    "                     cp_model.musical_input.meter, cp_model.musical_input.first_on_beat, 'D',\n",
    "                     chord_vocab,\n",
    "                     penalties_chord_progression,\n",
    "                     hard_constraints, 1000,\n",
    "                     soft_constraint_w_weights)\n",
    "print(sum(total_cp_cost.values()))'''"
   ]
  }
 ],
 "metadata": {
  "kernelspec": {
   "display_name": "Python 3",
   "language": "python",
   "name": "python3"
  },
  "language_info": {
   "codemirror_mode": {
    "name": "ipython",
    "version": 3
   },
   "file_extension": ".py",
   "mimetype": "text/x-python",
   "name": "python",
   "nbconvert_exporter": "python",
   "pygments_lexer": "ipython3",
   "version": "3.8.8"
  }
 },
 "nbformat": 4,
 "nbformat_minor": 5
}
