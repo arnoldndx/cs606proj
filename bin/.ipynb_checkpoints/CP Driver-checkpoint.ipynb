{
 "cells": [
  {
   "cell_type": "code",
   "execution_count": 1,
   "id": "2ae066b7",
   "metadata": {},
   "outputs": [],
   "source": [
    "#Standard Imports\n",
    "import os\n",
    "import sys\n",
    "import pandas as pd\n",
    "# from collections import defaultdict\n",
    "#import timeit\n",
    "from docplex.cp.model import CpoModel"
   ]
  },
  {
   "cell_type": "code",
   "execution_count": 36,
   "id": "0ab2c864",
   "metadata": {},
   "outputs": [],
   "source": [
    "#Custom Imports\n",
    "sys.path.append('../')\n",
    "from src.chord import Chord\n",
    "from src.musical_work_input import MusicalWorkInput\n",
    "from src.cp_model import CPModel\n",
    "from src.music_functions import *\n",
    "from src.evaluate import *\n",
    "from src.midi_processing import *"
   ]
  },
  {
   "cell_type": "code",
   "execution_count": 10,
   "id": "0b509c4a",
   "metadata": {},
   "outputs": [],
   "source": [
    "# Importing Musical Corpus\n",
    "musical_work_df = pd.read_csv(\"../data/sample_input.csv\")\n",
    "musical_corpus = []\n",
    "for i, title, meter, key, tonality, first_on_beat, melody in musical_work_df.itertuples():\n",
    "    musical_corpus.append(MusicalWorkInput(title, meter, key, tonality, first_on_beat, [int(x) for x in melody.split(',')]))"
   ]
  },
  {
   "cell_type": "code",
   "execution_count": 11,
   "id": "55e8142d",
   "metadata": {},
   "outputs": [],
   "source": [
    "# Importing Chord Vocabulary\n",
    "chord_df_major = pd.read_csv(\"../data/chord_vocabulary_major.csv\", index_col = 0)\n",
    "chord_df_minor = pd.read_csv(\"../data/chord_vocabulary_minor.csv\", index_col = 0)\n",
    "chord_vocab_major, chord_vocab_minor = [], []\n",
    "for index, name, note_intervals in chord_df_major.itertuples():\n",
    "    chord_vocab_major.append(Chord(index, name, [int(x) for x in note_intervals.split(',')]))\n",
    "for index, name, note_intervals in chord_df_minor.itertuples():\n",
    "    chord_vocab_minor.append(Chord(index, name, [int(x) for x in note_intervals.split(',')]))"
   ]
  },
  {
   "cell_type": "code",
   "execution_count": 12,
   "id": "4827c983",
   "metadata": {},
   "outputs": [],
   "source": [
    "# Defining penalties for chord progression\n",
    "penalties_chord_progression_major = pd.read_csv(\"../data/chord_progression_major.csv\", header = 1, index_col = 0)\n",
    "penalties_chord_progression_minor = pd.read_csv(\"../data/chord_progression_minor.csv\", header = 1, index_col = 0)\n",
    "penalties_chord_progression_major = dict(penalties_chord_progression_major.stack())\n",
    "penalties_chord_progression_minor = dict(penalties_chord_progression_minor.stack())"
   ]
  },
  {
   "cell_type": "code",
   "execution_count": 13,
   "id": "4cb529d7",
   "metadata": {},
   "outputs": [],
   "source": [
    "# Importing Weights\n",
    "weight_df = pd.read_csv(\"../data/soft_constraint_weights_temp.csv\")\n",
    "\n",
    "# Defining dictionary of weights for each soft constraint option:\n",
    "soft_constraint_w_weights = {}\n",
    "for _, name, w in weight_df.itertuples(): #name population is same as soft_constraint_options\n",
    "    soft_constraint_w_weights[name] = float(w)\n",
    "assert sum(v for v in soft_constraint_w_weights.values() if v > 0) == 100"
   ]
  },
  {
   "cell_type": "code",
   "execution_count": 14,
   "id": "943e29c5",
   "metadata": {},
   "outputs": [],
   "source": [
    "# Defining dictionary of hard and soft constraint options:\n",
    "hard_constraint_options = ['musical input', 'voice range', 'chord membership', 'first last chords',\n",
    "                           'chord repetition', 'chord bass repetition', 'adjacent bar chords', 'voice crossing', 'parallel movement',\n",
    "                          'chord spacing', 'incomplete chord', 'chord distribution']\n",
    "soft_constraint_options = ['chord progression', 'chord repetition', 'chord bass repetition', 'leap resolution',\n",
    "                           'melodic movement', 'note repetition', 'parallel movement', 'voice overlap', 'adjacent bar chords',\n",
    "                           'chord spacing', 'distinct notes', 'incomplete chord', 'voice crossing', 'voice range',\n",
    "                           'second inversion', 'first inversion', 'chord distribution']"
   ]
  },
  {
   "cell_type": "code",
   "execution_count": 15,
   "id": "b2f56cc9",
   "metadata": {},
   "outputs": [],
   "source": [
    "# Defining which hard constraints to use\n",
    "hard_constraints = {x: True if x in ['musical input', 'voice range', 'chord membership', 'first last chords',\n",
    "                                     'voice crossing', 'parallel movement',\n",
    "                                     'chord spacing', 'incomplete chord'] else False for x in hard_constraint_options}"
   ]
  },
  {
   "cell_type": "code",
   "execution_count": 17,
   "id": "a8aab115",
   "metadata": {},
   "outputs": [
    {
     "data": {
      "text/plain": [
       "[<src.musical_work_input.MusicalWorkInput at 0x1ebfb80a408>,\n",
       " <src.musical_work_input.MusicalWorkInput at 0x1ebfbf2dec8>,\n",
       " <src.musical_work_input.MusicalWorkInput at 0x1ebfbf2df88>,\n",
       " <src.musical_work_input.MusicalWorkInput at 0x1ebfbf2df08>,\n",
       " <src.musical_work_input.MusicalWorkInput at 0x1ebfbedb288>,\n",
       " <src.musical_work_input.MusicalWorkInput at 0x1ebfbedb148>,\n",
       " <src.musical_work_input.MusicalWorkInput at 0x1ebfbedba48>,\n",
       " <src.musical_work_input.MusicalWorkInput at 0x1ebfbedb088>]"
      ]
     },
     "execution_count": 17,
     "metadata": {},
     "output_type": "execute_result"
    }
   ],
   "source": [
    "musical_corpus"
   ]
  },
  {
   "cell_type": "code",
   "execution_count": 37,
   "id": "ff3f61aa",
   "metadata": {},
   "outputs": [
    {
     "name": "stdout",
     "output_type": "stream",
     "text": [
      "********************\n",
      "Work: Ach bleib' bei unsm Herr Jesu Christ (part)\n",
      "********************\n"
     ]
    },
    {
     "ename": "KeyError",
     "evalue": "0",
     "output_type": "error",
     "traceback": [
      "\u001b[1;31m---------------------------------------------------------------------------\u001b[0m",
      "\u001b[1;31mKeyError\u001b[0m                                  Traceback (most recent call last)",
      "\u001b[1;32m~\\AppData\\Local\\Temp\\ipykernel_42860\\967581647.py\u001b[0m in \u001b[0;36m<module>\u001b[1;34m\u001b[0m\n\u001b[0;32m     19\u001b[0m \u001b[1;33m\u001b[0m\u001b[0m\n\u001b[0;32m     20\u001b[0m \u001b[1;31m#Solving Model\u001b[0m\u001b[1;33m\u001b[0m\u001b[1;33m\u001b[0m\u001b[1;33m\u001b[0m\u001b[0m\n\u001b[1;32m---> 21\u001b[1;33m \u001b[0msolution\u001b[0m\u001b[1;33m,\u001b[0m \u001b[0mprogress_data\u001b[0m \u001b[1;33m=\u001b[0m \u001b[0mcp_model\u001b[0m\u001b[1;33m.\u001b[0m\u001b[0msolve\u001b[0m\u001b[1;33m(\u001b[0m\u001b[0mlog_output\u001b[0m \u001b[1;33m=\u001b[0m \u001b[1;32mTrue\u001b[0m\u001b[1;33m,\u001b[0m \u001b[0mTimeLimit\u001b[0m \u001b[1;33m=\u001b[0m \u001b[1;36m100\u001b[0m\u001b[1;33m,\u001b[0m \u001b[0mLogVerbosity\u001b[0m \u001b[1;33m=\u001b[0m \u001b[1;34m'Verbose'\u001b[0m\u001b[1;33m)\u001b[0m\u001b[1;33m\u001b[0m\u001b[1;33m\u001b[0m\u001b[0m\n\u001b[0m\u001b[0;32m     22\u001b[0m \u001b[1;31m# result = cp_model.get_solution()\u001b[0m\u001b[1;33m\u001b[0m\u001b[1;33m\u001b[0m\u001b[1;33m\u001b[0m\u001b[0m\n",
      "\u001b[1;32m~\\Anaconda3\\lib\\site-packages\\docplex\\cp\\solution.py\u001b[0m in \u001b[0;36m__getitem__\u001b[1;34m(self, name)\u001b[0m\n\u001b[0;32m   1537\u001b[0m             \u001b[0mVariable\u001b[0m \u001b[0msolution\u001b[0m \u001b[1;33m(\u001b[0m\u001b[1;32mclass\u001b[0m \u001b[0mCpoVarSolution\u001b[0m\u001b[1;33m)\u001b[0m\u001b[1;33m\u001b[0m\u001b[1;33m\u001b[0m\u001b[0m\n\u001b[0;32m   1538\u001b[0m         \"\"\"\n\u001b[1;32m-> 1539\u001b[1;33m         \u001b[1;32mreturn\u001b[0m \u001b[0mself\u001b[0m\u001b[1;33m.\u001b[0m\u001b[0mget_value\u001b[0m\u001b[1;33m(\u001b[0m\u001b[0mname\u001b[0m\u001b[1;33m)\u001b[0m\u001b[1;33m\u001b[0m\u001b[1;33m\u001b[0m\u001b[0m\n\u001b[0m\u001b[0;32m   1540\u001b[0m \u001b[1;33m\u001b[0m\u001b[0m\n\u001b[0;32m   1541\u001b[0m \u001b[1;33m\u001b[0m\u001b[0m\n",
      "\u001b[1;32m~\\Anaconda3\\lib\\site-packages\\docplex\\cp\\solution.py\u001b[0m in \u001b[0;36mget_value\u001b[1;34m(self, name)\u001b[0m\n\u001b[0;32m   1490\u001b[0m             \u001b[0mVariable\u001b[0m \u001b[0mvalue\u001b[0m\u001b[1;33m,\u001b[0m \u001b[1;32mNone\u001b[0m \u001b[1;32mif\u001b[0m \u001b[0mvariable\u001b[0m \u001b[1;32mis\u001b[0m \u001b[1;32mnot\u001b[0m \u001b[0mfound\u001b[0m\u001b[1;33m.\u001b[0m\u001b[1;33m\u001b[0m\u001b[1;33m\u001b[0m\u001b[0m\n\u001b[0;32m   1491\u001b[0m         \"\"\"\n\u001b[1;32m-> 1492\u001b[1;33m         \u001b[1;32mreturn\u001b[0m \u001b[0mself\u001b[0m\u001b[1;33m.\u001b[0m\u001b[0msolution\u001b[0m\u001b[1;33m.\u001b[0m\u001b[0mget_value\u001b[0m\u001b[1;33m(\u001b[0m\u001b[0mname\u001b[0m\u001b[1;33m)\u001b[0m\u001b[1;33m\u001b[0m\u001b[1;33m\u001b[0m\u001b[0m\n\u001b[0m\u001b[0;32m   1493\u001b[0m \u001b[1;33m\u001b[0m\u001b[0m\n\u001b[0;32m   1494\u001b[0m \u001b[1;33m\u001b[0m\u001b[0m\n",
      "\u001b[1;32m~\\Anaconda3\\lib\\site-packages\\docplex\\cp\\solution.py\u001b[0m in \u001b[0;36mget_value\u001b[1;34m(self, expr)\u001b[0m\n\u001b[0;32m    778\u001b[0m         \u001b[1;32mif\u001b[0m \u001b[0mvar\u001b[0m \u001b[1;32mis\u001b[0m \u001b[1;32mnot\u001b[0m \u001b[1;32mNone\u001b[0m\u001b[1;33m:\u001b[0m\u001b[1;33m\u001b[0m\u001b[1;33m\u001b[0m\u001b[0m\n\u001b[0;32m    779\u001b[0m             \u001b[1;32mreturn\u001b[0m \u001b[0mvar\u001b[0m\u001b[1;33m.\u001b[0m\u001b[0mget_value\u001b[0m\u001b[1;33m(\u001b[0m\u001b[1;33m)\u001b[0m\u001b[1;33m\u001b[0m\u001b[1;33m\u001b[0m\u001b[0m\n\u001b[1;32m--> 780\u001b[1;33m         \u001b[1;32mreturn\u001b[0m \u001b[0mself\u001b[0m\u001b[1;33m.\u001b[0m\u001b[0mget_kpi_value\u001b[0m\u001b[1;33m(\u001b[0m\u001b[0mexpr\u001b[0m\u001b[1;33m)\u001b[0m\u001b[1;33m\u001b[0m\u001b[1;33m\u001b[0m\u001b[0m\n\u001b[0m\u001b[0;32m    781\u001b[0m \u001b[1;33m\u001b[0m\u001b[0m\n\u001b[0;32m    782\u001b[0m \u001b[1;33m\u001b[0m\u001b[0m\n",
      "\u001b[1;32m~\\Anaconda3\\lib\\site-packages\\docplex\\cp\\solution.py\u001b[0m in \u001b[0;36mget_kpi_value\u001b[1;34m(self, name)\u001b[0m\n\u001b[0;32m    854\u001b[0m             \u001b[0mKeyError\u001b[0m \u001b[1;32mif\u001b[0m \u001b[0mKPI\u001b[0m \u001b[1;32mis\u001b[0m \u001b[1;32mnot\u001b[0m \u001b[1;32min\u001b[0m \u001b[0mthe\u001b[0m \u001b[0msolution\u001b[0m\u001b[1;33m.\u001b[0m\u001b[1;33m\u001b[0m\u001b[1;33m\u001b[0m\u001b[0m\n\u001b[0;32m    855\u001b[0m         \"\"\"\n\u001b[1;32m--> 856\u001b[1;33m         \u001b[1;32mreturn\u001b[0m \u001b[0mself\u001b[0m\u001b[1;33m.\u001b[0m\u001b[0mkpi_values\u001b[0m\u001b[1;33m[\u001b[0m\u001b[0mname\u001b[0m\u001b[1;33m]\u001b[0m\u001b[1;33m\u001b[0m\u001b[1;33m\u001b[0m\u001b[0m\n\u001b[0m\u001b[0;32m    857\u001b[0m \u001b[1;33m\u001b[0m\u001b[0m\n\u001b[0;32m    858\u001b[0m \u001b[1;33m\u001b[0m\u001b[0m\n",
      "\u001b[1;31mKeyError\u001b[0m: 0"
     ]
    }
   ],
   "source": [
    "# Model\n",
    "musical_work = musical_corpus[-1]\n",
    "\n",
    "print('*'*20)\n",
    "print('Work: {}'.format(musical_work.title))\n",
    "print('*'*20)\n",
    "    \n",
    "if musical_work.tonality == 'major':\n",
    "    penalties_chord_progression = penalties_chord_progression_major\n",
    "    chord_vocab = chord_vocab_major\n",
    "else:\n",
    "    penalties_chord_progression = penalties_chord_progression_minor\n",
    "    chord_vocab = chord_vocab_minor        \n",
    "    \n",
    "#Defining Model\n",
    "cp_model = CPModel('Completed_v2', musical_work, chord_vocab, penalties_chord_progression,\n",
    "                    hard_constraints,\n",
    "                    soft_constraint_w_weights)\n",
    "    \n",
    "#Solving Model\n",
    "solution, progress_data = cp_model.solve(log_output = True, TimeLimit = 30, LogVerbosity = 'Verbose')\n",
    "# result = cp_model.get_solution()\n"
   ]
  },
  {
   "cell_type": "code",
   "execution_count": null,
   "id": "44b421d1",
   "metadata": {},
   "outputs": [],
   "source": [
    "print(solution)"
   ]
  },
  {
   "cell_type": "code",
   "execution_count": null,
   "id": "2cf941a4",
   "metadata": {},
   "outputs": [],
   "source": [
    "'''list_x = cp_model.sol_var['Notes']\n",
    "list_c = []\n",
    "for chord_name in cp_model.sol_var['Chords']:\n",
    "    exists = False\n",
    "    for chord in chord_vocab:\n",
    "        if chord.name == chord_name:\n",
    "            exists = True\n",
    "            list_c.append(chord.index)\n",
    "            break\n",
    "    if not exists:\n",
    "        list_c.append(-1)'''"
   ]
  },
  {
   "cell_type": "code",
   "execution_count": null,
   "id": "53115e20",
   "metadata": {},
   "outputs": [],
   "source": [
    "'''total_cp_cost = evaluate_cost(list_x, list_c, cp_model.K, cp_model.musical_input.tonality,\n",
    "                     cp_model.musical_input.meter, cp_model.musical_input.first_on_beat, 'D',\n",
    "                     chord_vocab,\n",
    "                     penalties_chord_progression,\n",
    "                     hard_constraints, 1000,\n",
    "                     soft_constraint_w_weights)\n",
    "print(sum(total_cp_cost.values()))'''"
   ]
  }
 ],
 "metadata": {
  "kernelspec": {
   "display_name": "Python 3 (ipykernel)",
   "language": "python",
   "name": "python3"
  },
  "language_info": {
   "codemirror_mode": {
    "name": "ipython",
    "version": 3
   },
   "file_extension": ".py",
   "mimetype": "text/x-python",
   "name": "python",
   "nbconvert_exporter": "python",
   "pygments_lexer": "ipython3",
   "version": "3.7.4"
  }
 },
 "nbformat": 4,
 "nbformat_minor": 5
}
