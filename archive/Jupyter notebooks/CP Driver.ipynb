{
 "cells": [
  {
   "cell_type": "code",
   "execution_count": 1,
   "id": "2ae066b7",
   "metadata": {},
   "outputs": [],
   "source": [
    "#Standard Imports\n",
    "import os\n",
    "import sys\n",
    "import pandas as pd\n",
    "# from collections import defaultdict\n",
    "#import timeit\n",
    "from docplex.cp.model import CpoModel"
   ]
  },
  {
   "cell_type": "code",
   "execution_count": 2,
   "id": "0ab2c864",
   "metadata": {},
   "outputs": [],
   "source": [
    "#Custom Imports\n",
    "sys.path.append('../')\n",
    "from src.chord import Chord\n",
    "from src.musical_work_input import MusicalWorkInput\n",
    "from src.cp_model import *\n",
    "from src.music_functions import *\n",
    "from src.evaluate import *\n",
    "from src.midi_processing import *"
   ]
  },
  {
   "cell_type": "code",
   "execution_count": 3,
   "id": "0b509c4a",
   "metadata": {},
   "outputs": [],
   "source": [
    "# Importing Musical Corpus\n",
    "musical_work_df = pd.read_csv(\"../data/sample_input.csv\")\n",
    "musical_corpus = []\n",
    "for i, title, meter, key, tonality, first_on_beat, melody in musical_work_df.itertuples():\n",
    "    musical_corpus.append(MusicalWorkInput(title, meter, key, tonality, first_on_beat, [int(x) for x in melody.split(',')]))"
   ]
  },
  {
   "cell_type": "code",
   "execution_count": 4,
   "id": "55e8142d",
   "metadata": {},
   "outputs": [],
   "source": [
    "# Importing Chord Vocabulary\n",
    "chord_df_major = pd.read_csv(\"../data/chord_vocabulary_major.csv\", index_col = 0)\n",
    "chord_df_minor = pd.read_csv(\"../data/chord_vocabulary_minor.csv\", index_col = 0)\n",
    "chord_vocab_major, chord_vocab_minor = [], []\n",
    "for index, name, note_intervals in chord_df_major.itertuples():\n",
    "    chord_vocab_major.append(Chord(index, name, [int(x) for x in note_intervals.split(',')]))\n",
    "for index, name, note_intervals in chord_df_minor.itertuples():\n",
    "    chord_vocab_minor.append(Chord(index, name, [int(x) for x in note_intervals.split(',')]))"
   ]
  },
  {
   "cell_type": "code",
   "execution_count": 5,
   "id": "4827c983",
   "metadata": {},
   "outputs": [],
   "source": [
    "# Defining penalties for chord progression\n",
    "penalties_chord_progression_major = pd.read_csv(\"../data/chord_progression_major.csv\", header = 1, index_col = 0)\n",
    "penalties_chord_progression_minor = pd.read_csv(\"../data/chord_progression_minor.csv\", header = 1, index_col = 0)\n",
    "penalties_chord_progression_major = dict(penalties_chord_progression_major.stack())\n",
    "penalties_chord_progression_minor = dict(penalties_chord_progression_minor.stack())"
   ]
  },
  {
   "cell_type": "code",
   "execution_count": 6,
   "id": "4cb529d7",
   "metadata": {},
   "outputs": [],
   "source": [
    "# Importing Weights\n",
    "weight_df = pd.read_csv(\"../data/soft_constraint_weights_temp.csv\")\n",
    "\n",
    "# Defining dictionary of weights for each soft constraint option:\n",
    "soft_constraint_w_weights = {}\n",
    "for _, name, w in weight_df.itertuples(): #name population is same as soft_constraint_options\n",
    "    soft_constraint_w_weights[name] = float(w)\n",
    "assert sum(v for v in soft_constraint_w_weights.values() if v > 0) == 100"
   ]
  },
  {
   "cell_type": "code",
   "execution_count": 7,
   "id": "943e29c5",
   "metadata": {},
   "outputs": [],
   "source": [
    "# Defining dictionary of hard and soft constraint options:\n",
    "hard_constraint_options = ['musical input', 'voice range', 'chord membership', 'first last chords',\n",
    "                           'chord repetition', 'chord bass repetition', 'adjacent bar chords', 'voice crossing', 'parallel movement',\n",
    "                          'chord spacing', 'incomplete chord', 'chord distribution']\n",
    "soft_constraint_options = ['chord progression', 'chord repetition', 'chord bass repetition', 'leap resolution',\n",
    "                           'melodic movement', 'note repetition', 'parallel movement', 'voice overlap', 'adjacent bar chords',\n",
    "                           'chord spacing', 'distinct notes', 'incomplete chord', 'voice crossing', 'voice range',\n",
    "                           'second inversion', 'first inversion', 'chord distribution']"
   ]
  },
  {
   "cell_type": "code",
   "execution_count": 8,
   "id": "b2f56cc9",
   "metadata": {},
   "outputs": [],
   "source": [
    "# Defining which hard constraints to use\n",
    "hard_constraints = {x: True if x in ['musical input', 'voice range', 'chord membership', 'first last chords',\n",
    "                                     'voice crossing', 'parallel movement',\n",
    "                                     'chord spacing', 'incomplete chord'] else False for x in hard_constraint_options}"
   ]
  },
  {
   "cell_type": "code",
   "execution_count": 9,
   "id": "49fee84e",
   "metadata": {},
   "outputs": [
    {
     "data": {
      "text/plain": [
       "[<src.musical_work_input.MusicalWorkInput at 0x18b20271208>,\n",
       " <src.musical_work_input.MusicalWorkInput at 0x18b20271b88>,\n",
       " <src.musical_work_input.MusicalWorkInput at 0x18b2095fb08>,\n",
       " <src.musical_work_input.MusicalWorkInput at 0x18b2095f948>,\n",
       " <src.musical_work_input.MusicalWorkInput at 0x18b2095ffc8>,\n",
       " <src.musical_work_input.MusicalWorkInput at 0x18b2095fa08>,\n",
       " <src.musical_work_input.MusicalWorkInput at 0x18b2095f9c8>,\n",
       " <src.musical_work_input.MusicalWorkInput at 0x18b2096bc88>]"
      ]
     },
     "execution_count": 9,
     "metadata": {},
     "output_type": "execute_result"
    }
   ],
   "source": [
    "musical_corpus"
   ]
  },
  {
   "cell_type": "code",
   "execution_count": 10,
   "id": "ff3f61aa",
   "metadata": {},
   "outputs": [
    {
     "name": "stdout",
     "output_type": "stream",
     "text": [
      "********************\n",
      "Work: Ach bleib' bei unsm Herr Jesu Christ (part)\n",
      "********************\n"
     ]
    }
   ],
   "source": [
    "# Model\n",
    "musical_work = musical_corpus[-1]\n",
    "\n",
    "print('*'*20)\n",
    "print('Work: {}'.format(musical_work.title))\n",
    "print('*'*20)\n",
    "    \n",
    "if musical_work.tonality == 'major':\n",
    "    penalties_chord_progression = penalties_chord_progression_major\n",
    "    chord_vocab = chord_vocab_major\n",
    "else:\n",
    "    penalties_chord_progression = penalties_chord_progression_minor\n",
    "    chord_vocab = chord_vocab_minor        \n",
    "    \n",
    "#Defining Model\n",
    "cp_model = CPModel('Completed_v2', musical_work, chord_vocab, penalties_chord_progression,\n",
    "                    hard_constraints,\n",
    "                    soft_constraint_w_weights)\n",
    "    \n",
    "#Solving Model\n",
    "# solution, progress_data = cp_model.solve(log_output = True, TimeLimit = 30, LogVerbosity = 'Verbose')\n",
    "#solution = cp_model.solve_old(log_output = True, TimeLimit = 30, LogVerbosity = 'Verbose')\n",
    "# result = cp_model.get_solution()\n"
   ]
  },
  {
   "cell_type": "code",
   "execution_count": 11,
   "id": "42eba5fb",
   "metadata": {},
   "outputs": [],
   "source": [
    "solution, progress_data = cp_model.solve(log_output = True, TimeLimit = 100, LogVerbosity = 'Verbose')"
   ]
  },
  {
   "cell_type": "code",
   "execution_count": 12,
   "id": "a7f3508d",
   "metadata": {},
   "outputs": [
    {
     "name": "stdout",
     "output_type": "stream",
     "text": [
      "[(1.047001838684082, 474), (1.909003496170044, 467), (2.05000376701355, 416), (2.137000322341919, 399), (2.203000068664551, 362), (38.471007108688354, 360), (38.75900864601135, 359), (39.367008209228516, 358), (39.47900915145874, 357), (39.543999910354614, 356), (40.03000831604004, 351), (40.43500757217407, 350), (40.530999183654785, 349), (41.05900454521179, 339), (41.17400884628296, 338), (41.53700280189514, 328), (41.635995864868164, 327), (42.15499830245972, 323), (42.260000705718994, 322), (42.53699851036072, 321), (42.88999843597412, 319), (43.13900279998779, 316), (43.26899719238281, 314), (43.76200032234192, 312), (44.06599569320679, 309), (44.431997537612915, 308), (44.82300114631653, 307), (44.941996574401855, 280), (45.267985105514526, 278), (45.65497541427612, 276), (46.63497710227966, 275), (48.69997215270996, 274), (49.02596879005432, 264), (49.76996994018555, 263), (50.28795766830444, 261), (50.34295701980591, 260), (50.50196933746338, 259), (50.61296343803406, 258), (50.68295741081238, 257), (50.73495388031006, 251), (50.89896368980408, 250), (51.274970293045044, 246), (51.617969274520874, 245), (51.92096996307373, 243), (52.276970863342285, 242), (52.60796928405762, 232), (53.234965801239014, 227), (53.302958250045776, 226), (53.36195755004883, 225), (53.414000272750854, 224), (53.572967529296875, 221), (53.8509681224823, 220), (53.96396327018738, 219), (54.21396470069885, 216), (54.543962717056274, 215), (55.301960706710815, 214), (55.673980712890625, 213), (55.77097153663635, 209), (55.959973096847534, 208), (56.543333530426025, 205), (56.88232612609863, 204), (57.005319356918335, 203), (57.07231330871582, 202), (57.47232413291931, 199), (58.81032657623291, 197), (58.927319049835205, 195), (61.78532290458679, 194), (63.97732496261597, 191), (66.2303216457367, 190), (73.79032254219055, 188), (74.68432283401489, 185), (74.8213222026825, 184), (76.12432265281677, 183), (77.2463161945343, 180), (85.86131358146667, 179), (93.23831820487976, 177)]\n"
     ]
    }
   ],
   "source": [
    "print(progress_data)"
   ]
  },
  {
   "cell_type": "code",
   "execution_count": null,
   "id": "2cf941a4",
   "metadata": {},
   "outputs": [],
   "source": [
    "'''list_x = cp_model.sol_var['Notes']\n",
    "list_c = []\n",
    "for chord_name in cp_model.sol_var['Chords']:\n",
    "    exists = False\n",
    "    for chord in chord_vocab:\n",
    "        if chord.name == chord_name:\n",
    "            exists = True\n",
    "            list_c.append(chord.index)\n",
    "            break\n",
    "    if not exists:\n",
    "        list_c.append(-1)'''"
   ]
  },
  {
   "cell_type": "code",
   "execution_count": null,
   "id": "53115e20",
   "metadata": {},
   "outputs": [],
   "source": [
    "'''total_cp_cost = evaluate_cost(list_x, list_c, cp_model.K, cp_model.musical_input.tonality,\n",
    "                     cp_model.musical_input.meter, cp_model.musical_input.first_on_beat, 'D',\n",
    "                     chord_vocab,\n",
    "                     penalties_chord_progression,\n",
    "                     hard_constraints, 1000,\n",
    "                     soft_constraint_w_weights)\n",
    "print(sum(total_cp_cost.values()))'''"
   ]
  }
 ],
 "metadata": {
  "kernelspec": {
   "display_name": "Python 3 (ipykernel)",
   "language": "python",
   "name": "python3"
  },
  "language_info": {
   "codemirror_mode": {
    "name": "ipython",
    "version": 3
   },
   "file_extension": ".py",
   "mimetype": "text/x-python",
   "name": "python",
   "nbconvert_exporter": "python",
   "pygments_lexer": "ipython3",
   "version": "3.7.4"
  }
 },
 "nbformat": 4,
 "nbformat_minor": 5
}
