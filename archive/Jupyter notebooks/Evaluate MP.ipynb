{
 "cells": [
  {
   "cell_type": "code",
   "execution_count": 2,
   "id": "2ae066b7",
   "metadata": {},
   "outputs": [],
   "source": [
    "#Standard Imports\n",
    "import os\n",
    "import sys\n",
    "import pandas as pd\n",
    "# from collections import defaultdict\n",
    "#import timeit\n",
    "from docplex.cp.model import CpoModel"
   ]
  },
  {
   "cell_type": "code",
   "execution_count": 3,
   "id": "0ab2c864",
   "metadata": {},
   "outputs": [],
   "source": [
    "#Custom Imports\n",
    "sys.path.append('../')\n",
    "from src.chord import Chord\n",
    "from src.musical_work_input import MusicalWorkInput\n",
    "from src.cp_model import CPModel\n",
    "from src.music_functions import *\n",
    "from src.evaluate import *\n",
    "from src.midi_processing import *"
   ]
  },
  {
   "cell_type": "code",
   "execution_count": 24,
   "id": "0b509c4a",
   "metadata": {},
   "outputs": [],
   "source": [
    "# Importing Musical Corpus\n",
    "musical_work_df = pd.read_csv(\"../data/sample_input.csv\")\n",
    "musical_corpus = []\n",
    "for i, title, meter, key, tonality, first_on_beat, melody in musical_work_df.itertuples():\n",
    "    musical_corpus.append(MusicalWorkInput(title, meter, key, tonality, first_on_beat, [int(x) for x in melody.split(',')]))"
   ]
  },
  {
   "cell_type": "code",
   "execution_count": 25,
   "id": "55e8142d",
   "metadata": {},
   "outputs": [],
   "source": [
    "# Importing Chord Vocabulary\n",
    "chord_df_major = pd.read_csv(\"../data/chord_vocabulary_major.csv\", index_col = 0)\n",
    "chord_df_minor = pd.read_csv(\"../data/chord_vocabulary_minor.csv\", index_col = 0)\n",
    "chord_vocab_major, chord_vocab_minor = [], []\n",
    "for index, name, note_intervals in chord_df_major.itertuples():\n",
    "    chord_vocab_major.append(Chord(index, name, [int(x) for x in note_intervals.split(',')]))\n",
    "for index, name, note_intervals in chord_df_minor.itertuples():\n",
    "    chord_vocab_minor.append(Chord(index, name, [int(x) for x in note_intervals.split(',')]))"
   ]
  },
  {
   "cell_type": "code",
   "execution_count": 26,
   "id": "4827c983",
   "metadata": {},
   "outputs": [],
   "source": [
    "# Defining penalties for chord progression\n",
    "penalties_chord_progression_major = pd.read_csv(\"../data/chord_progression_major.csv\", header = 1, index_col = 0)\n",
    "penalties_chord_progression_minor = pd.read_csv(\"../data/chord_progression_minor.csv\", header = 1, index_col = 0)\n",
    "penalties_chord_progression_major = dict(penalties_chord_progression_major.stack())\n",
    "penalties_chord_progression_minor = dict(penalties_chord_progression_minor.stack())"
   ]
  },
  {
   "cell_type": "code",
   "execution_count": 27,
   "id": "4cb529d7",
   "metadata": {},
   "outputs": [],
   "source": [
    "# Importing Weights\n",
    "weight_df = pd.read_csv(\"../data/soft_constraint_weights_temp.csv\")\n",
    "\n",
    "# Defining dictionary of weights for each soft constraint option:\n",
    "soft_constraint_w_weights = {}\n",
    "for _, name, w in weight_df.itertuples(): #name population is same as soft_constraint_options\n",
    "    soft_constraint_w_weights[name] = float(w)\n",
    "assert sum(v for v in soft_constraint_w_weights.values() if v > 0) == 100"
   ]
  },
  {
   "cell_type": "code",
   "execution_count": 28,
   "id": "943e29c5",
   "metadata": {},
   "outputs": [],
   "source": [
    "# Defining dictionary of hard and soft constraint options:\n",
    "hard_constraint_options = ['musical input', 'voice range', 'chord membership', 'first last chords',\n",
    "                           'chord repetition', 'chord bass repetition', 'adjacent bar chords', 'voice crossing', 'parallel movement',\n",
    "                          'chord spacing', 'incomplete chord', 'chord distribution']\n",
    "soft_constraint_options = ['chord progression', 'chord repetition', 'chord bass repetition', 'leap resolution',\n",
    "                           'melodic movement', 'note repetition', 'parallel movement', 'voice overlap', 'adjacent bar chords',\n",
    "                           'chord spacing', 'distinct notes', 'incomplete chord', 'voice crossing', 'voice range',\n",
    "                           'second inversion', 'first inversion', 'chord distribution']"
   ]
  },
  {
   "cell_type": "code",
   "execution_count": 29,
   "id": "b2f56cc9",
   "metadata": {},
   "outputs": [],
   "source": [
    "# Defining which hard constraints to use\n",
    "hard_constraints = {x: True if x in ['musical input', 'voice range', 'chord membership', 'first last chords',\n",
    "                                     'voice crossing', 'parallel movement',\n",
    "                                     'chord spacing', 'incomplete chord'] else False for x in hard_constraint_options}"
   ]
  },
  {
   "cell_type": "code",
   "execution_count": 30,
   "id": "a7409c0e",
   "metadata": {},
   "outputs": [
    {
     "name": "stdout",
     "output_type": "stream",
     "text": [
      "********************\n",
      "Work: Ach bleib' bei unsm Herr Jesu Christ (part)\n",
      "********************\n"
     ]
    }
   ],
   "source": [
    "for musical_work in [musical_corpus[-1]]:\n",
    "\n",
    "    print('*'*20)\n",
    "    print('Work: {}'.format(musical_work.title))\n",
    "    print('*'*20)\n",
    "    \n",
    "    if musical_work.tonality == 'major':\n",
    "        penalties_chord_progression = penalties_chord_progression_major\n",
    "        chord_vocab = chord_vocab_major\n",
    "    else:\n",
    "        penalties_chord_progression = penalties_chord_progression_minor\n",
    "        chord_vocab = chord_vocab_minor  "
   ]
  },
  {
   "cell_type": "code",
   "execution_count": 13,
   "id": "cc7267fd",
   "metadata": {},
   "outputs": [],
   "source": [
    "#Loading MP solution\n",
    "df_solution = pd.read_csv(\"../outputs/MP.csv\", header = None)\n",
    "df_solution_notes = df_solution.iloc[:4,:]\n",
    "df_solution_chords = df_solution.iloc[-1,:]"
   ]
  },
  {
   "cell_type": "code",
   "execution_count": 20,
   "id": "8b764a04",
   "metadata": {},
   "outputs": [],
   "source": [
    "list_x = [list(np.array(df_solution_notes)[i]) for i in range(4)]\n",
    "list_c = list(df_solution_chords)"
   ]
  },
  {
   "cell_type": "code",
   "execution_count": 32,
   "id": "53115e20",
   "metadata": {},
   "outputs": [
    {
     "name": "stdout",
     "output_type": "stream",
     "text": [
      "8470.25\n"
     ]
    }
   ],
   "source": [
    "total_mp_cost = evaluate_cost(list_x, list_c, musical_work.key, musical_work.tonality,\n",
    "                     musical_work.meter, musical_work.first_on_beat, 'D',\n",
    "                     chord_vocab,\n",
    "                     penalties_chord_progression,\n",
    "                     hard_constraints, 1000,\n",
    "                     soft_constraint_w_weights)\n",
    "print(sum(total_mp_cost.values()))"
   ]
  },
  {
   "cell_type": "code",
   "execution_count": 35,
   "id": "436c7d78",
   "metadata": {},
   "outputs": [],
   "source": [
    "'''array_to_midi(list_x, instruments = [20]*4, beat = 600,\n",
    "                      dest_file_path = '../outputs/mp_Ach bleib\\' bei unsm Herr Jesu Christ (part)_major_967_55003000050030000300000090000100 (v2).mid',\n",
    "              held_notes = False, offset = (musical_work.meter - musical_work.first_on_beat + 1) % 4)'''"
   ]
  },
  {
   "cell_type": "code",
   "execution_count": 33,
   "id": "e8fb51ca",
   "metadata": {
    "collapsed": true
   },
   "outputs": [
    {
     "data": {
      "text/plain": [
       "{'hard constraint voice range': 0,\n",
       " 'hard constraint chord membership': 0,\n",
       " 'hard constraint first last chords': 1000,\n",
       " 'hard constraint chord repetition': 0,\n",
       " 'hard constraint chord bass repetition': 0,\n",
       " 'hard constraint adjacent bar chords': 0,\n",
       " 'hard constraint voice crossing': 0,\n",
       " 'hard constraint parallel movement': 0,\n",
       " 'hard constraint chord spacing': 1000,\n",
       " 'hard constraint incomplete chord': 6000,\n",
       " 'hard constraint chord distribution': 0,\n",
       " 'soft constraint chord progression': 132.0,\n",
       " 'soft constraint chord repetition': 0.0,\n",
       " 'soft constraint chord bass repetition': 0.0,\n",
       " 'soft constraint leap resolution': 0,\n",
       " 'soft constraint melodic movement': 116.25000000000001,\n",
       " 'soft constraint note repetition': 3.0,\n",
       " 'soft constraint parallel movement': 0,\n",
       " 'soft constraint voice overlap': 12.0,\n",
       " 'soft constraint adjacent bar chords': 0,\n",
       " 'soft constraint chord spacing': 0,\n",
       " 'soft constraint distinct notes': 63.0,\n",
       " 'soft constraint incomplete chord': 0,\n",
       " 'soft constraint voice crossing': 0,\n",
       " 'soft constraint voice range': 0.0,\n",
       " 'soft constraint second inversion': 52.0,\n",
       " 'soft constraint first inversion': 8.0,\n",
       " 'soft constraint chord distribution': 84.0}"
      ]
     },
     "execution_count": 33,
     "metadata": {},
     "output_type": "execute_result"
    }
   ],
   "source": [
    "#total_mp_cost"
   ]
  }
 ],
 "metadata": {
  "kernelspec": {
   "display_name": "Python 3",
   "language": "python",
   "name": "python3"
  },
  "language_info": {
   "codemirror_mode": {
    "name": "ipython",
    "version": 3
   },
   "file_extension": ".py",
   "mimetype": "text/x-python",
   "name": "python",
   "nbconvert_exporter": "python",
   "pygments_lexer": "ipython3",
   "version": "3.8.8"
  }
 },
 "nbformat": 4,
 "nbformat_minor": 5
}
